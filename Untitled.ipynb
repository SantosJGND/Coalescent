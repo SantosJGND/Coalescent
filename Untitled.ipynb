{
 "cells": [
  {
   "cell_type": "code",
   "execution_count": 22,
   "metadata": {},
   "outputs": [],
   "source": [
    "## Matrix multiplication.\n",
    "\n",
    "import numpy as np\n",
    "import itertools as it\n",
    "import pandas as pd\n",
    "import time\n",
    "import gzip\n",
    "\n",
    "from tools.fasta_utilities import (\n",
    "    geno_muts_v2, get_mutations, get_by_path, vcf_muts_matrix,\n",
    "    kmer_comp_index, kmer_mut_index\n",
    "    )\n",
    "\n",
    "\n",
    "\n",
    "def read_vcf_allel(file_vcf,haps_extract= False,calldata= 'calldata/GT'):\n",
    "    '''\n",
    "    Use scikit allel to read vcf file. Organise variant information into summary pandas df. \n",
    "    '''\n",
    "    geno1= []\n",
    "\n",
    "    vcf_ori= allel.read_vcf(file_vcf)\n",
    "\n",
    "    if not vcf_ori:\n",
    "        print('file:')\n",
    "        print(file_vcf)\n",
    "        print('is empty.')\n",
    "\n",
    "        return {}, {}, {}\n",
    "\n",
    "    ### get genotype array\n",
    "    geno= vcf_ori[calldata]\n",
    "\n",
    "    mult_alt= []\n",
    "    indel= []\n",
    "    single= []\n",
    "\n",
    "    ## Filter SNPs. append to single list what to \n",
    "    for idx in range(geno.shape[0]):\n",
    "        ## eliminate +1 segregating mutations.\n",
    "        if vcf_ori['variants/ALT'][idx][1]:\n",
    "            gen_t= geno[idx]\n",
    "            gen_t[gen_t > 1] = 0\n",
    "            geno[idx]= gen_t\n",
    "            ## or just jump them\n",
    "            indel.append(idx)\n",
    "\n",
    "        elif len(vcf_ori['variants/REF'][idx]) != 1 or len(vcf_ori['variants/ALT'][idx][0]) != 1:\n",
    "            indel.append(idx)\n",
    "        else:\n",
    "            single.append(idx)\n",
    "\n",
    "    if haps_extract:\n",
    "        geno1= geno[:,:,0].T\n",
    "        geno= geno[:,:,1].T\n",
    "        geno= np.concatenate((geno,geno1),axis= 0)\n",
    "    else:\n",
    "        geno= allel.GenotypeArray(geno)\n",
    "        geno= geno.to_n_alt().T\n",
    "\n",
    "    ## setup summary\n",
    "\n",
    "    column_names= ['CHROM','POS','ID','REF','ALT','QUAL','FILTER']\n",
    "\n",
    "    alts= [vcf_ori['variants/ALT'][x][0] for x in range(geno.shape[1])]\n",
    "    PASS= [['.','PASS'][int(vcf_ori['variants/FILTER_PASS'][x])] for x in range(geno.shape[1])]\n",
    "\n",
    "    summary= [\n",
    "        vcf_ori['variants/CHROM'],\n",
    "        vcf_ori['variants/POS'],\n",
    "        vcf_ori['variants/ID'],\n",
    "        vcf_ori['variants/REF'],\n",
    "        alts,\n",
    "        vcf_ori['variants/QUAL'],\n",
    "        PASS,\n",
    "\n",
    "    ]\n",
    "\n",
    "    summary= np.array(summary).T\n",
    "\n",
    "    if len(indel):\n",
    "        #\n",
    "        geno= geno[:,single]\n",
    "        if len(geno1):\n",
    "            geno1= geno1[:,single]\n",
    "        summary= summary[single,:]\n",
    "\n",
    "    summary= pd.DataFrame(summary,columns= column_names)\n",
    "    \n",
    "    return geno, summary, vcf_ori['samples']\n",
    "\n",
    "\n",
    "\n",
    "def vcf_muts_matrix_v1(refseq,summary,start= 0,end= 0,ksize= 3,bases='ACGT', collapse= True):\n",
    "    ''' \n",
    "    Return matrix of mutation contexts by SNP in genotype array\n",
    "    Each mutation is mapped to list of possible mutations as a binary vector.\n",
    "    - v1 determines if alternative allele = reference allele in fasta. \n",
    "        if so, allele is switched, position idx is flagged. \n",
    "    '''\n",
    "    \n",
    "    mutations= get_mutations(bases= bases,ksize= ksize)\n",
    "    kmers, kmer_idx= kmer_comp_index(mutations)\n",
    "    \n",
    "    mut_lib= kmer_mut_index(mutations)\n",
    "    \n",
    "    if end == 0:\n",
    "        end= max(summary.POS)\n",
    "    \n",
    "    k5= int(ksize/2)\n",
    "    k3= ksize - k5\n",
    "    pos_mut= []\n",
    "    flag_reverse= []\n",
    "    flag_remove= []\n",
    "    \n",
    "    for x in range(summary.shape[0]):\n",
    "        pos= int(summary.POS[x]) - 1\n",
    "        if pos >=  start and pos <= end:\n",
    "            kmer= refseq[pos-k5: pos + k3]\n",
    "            if 'N' in kmer:\n",
    "                flag_remove.append(x)\n",
    "                continue\n",
    "            mut= kmer + summary.ALT[x]\n",
    "            \n",
    "            if kmer[1] == summary.ALT[x]:\n",
    "                flag_reverse.append(x)\n",
    "                mut= kmer+summary.REF[x]\n",
    "            \n",
    "            if len(mut) != 4: \n",
    "                print(kmer)\n",
    "                print(summary.REF[x],summary.ALT[x])\n",
    "                print(x,pos)\n",
    "                print(len(refseq),summary.shape[0])\n",
    "                if collapse:\n",
    "                    mut_array=np.zeros(len(kmer_idx))\n",
    "                    pos_mut.append(mut_array)\n",
    "                    continue\n",
    "                else:\n",
    "                    mut_array=np.zeros(len(mutations))\n",
    "                    pos_mut.append(mut_array)\n",
    "                    continue\n",
    "            if collapse:\n",
    "                mut_index= kmers[mut]\n",
    "                mut_array=np.zeros(len(kmer_idx))\n",
    "            else:\n",
    "                mut_index= get_by_path(mut_lib, list(mut))\n",
    "                mut_array=np.zeros(len(mutations))\n",
    "            \n",
    "            mut_array[mut_index]= 1\n",
    "            pos_mut.append(mut_array)\n",
    "    \n",
    "    pos_mut= np.array(pos_mut).T\n",
    "    \n",
    "    return pos_mut, flag_reverse, flag_remove\n",
    "\n",
    "\n",
    "def ind_assignment_scatter_v1(reference,dir_sim= '',indfile= 'ind_assignments.txt', haps_extract= False,\n",
    "                          min_size= 80, samp= [5,20,10], stepup= \"increment\",outemp= 'ind_assignments{}.txt',write_out= False):\n",
    "    '''\n",
    "    read ind assignments for a given window; \n",
    "    chose one population;\n",
    "    subset that pop in some way.\n",
    "    - v1: instead of writting new pop_assignment files, return them. \n",
    "    '''\n",
    "    \n",
    "    ind_assignments= dir_sim + reference + '/' + indfile\n",
    "    \n",
    "    with open(ind_assignments,'r') as f:\n",
    "        inds= f.readlines()\n",
    "    \n",
    "    inds= [x.split() for x in inds]\n",
    "    pops= np.array(inds)[:,1]\n",
    "    pop_dict= {\n",
    "        z: [x for x in range(len(pops)) if pops[x] == z] for z in list(set(pops))\n",
    "    }\n",
    "    total_N= sum([len(x) for x in pop_dict.values()])\n",
    "\n",
    "    if haps_extract:\n",
    "        pop_dict= {\n",
    "            z: g + [x + total_N for x in g] for z,g in pop_dict.items()\n",
    "        }\n",
    "    \n",
    "    tag_list= []\n",
    "    tag_dict= {}\n",
    "    \n",
    "    ## criterium of choice. chose only one pop.\n",
    "    pop_avail= [x for x in pop_dict.keys() if len(pop_dict[x]) >= min_size]\n",
    "    for pop_chose in pop_avail:\n",
    "        \n",
    "        N= len(pop_dict[pop_chose])\n",
    "        pop_list= pop_dict[pop_chose]\n",
    "\n",
    "        if stepup== 'increment':\n",
    "            timetable= np.linspace(2,samp[0],samp[1])\n",
    "        else:\n",
    "            timetable= np.linspace(samp[0],N,samp[1])\n",
    "\n",
    "        for each in timetable:  \n",
    "            each= int(each)\n",
    "            for perm in range(samp[2]):\n",
    "                tag= '_ss' + '.'.join([pop_chose,str(each),str(perm)])\n",
    "                \n",
    "                smaller= np.random.choice(pop_list,each,replace= False)\n",
    "                smaller= [int(x in smaller) for x in pop_list]\n",
    "                \n",
    "                new_pop= {\n",
    "                    tag + '.s' + str(z): [pop_list[x] for x in range(len(smaller)) if smaller[x] == z] for z in [1]\n",
    "                }\n",
    "                \n",
    "                #new_dict= {v:g for v,g in pop_dict.items() if v != pop_chose}\n",
    "                #new_dict.update(new_pop)\n",
    "                new_dict= new_pop\n",
    "\n",
    "                if write_out:\n",
    "                    dict_write(new_dict,inds,outemp= outemp, dir_sim= dir_sim, tag= tag)\n",
    "                else:\n",
    "                    tag_dict[tag]= new_dict\n",
    "                tag_list.append(tag)\n",
    "\n",
    "    if write_out:\n",
    "        return tag_list\n",
    "    else: \n",
    "        return tag_list, tag_dict, pop_dict\n",
    "\n"
   ]
  },
  {
   "cell_type": "code",
   "execution_count": null,
   "metadata": {},
   "outputs": [],
   "source": []
  },
  {
   "cell_type": "code",
   "execution_count": 135,
   "metadata": {},
   "outputs": [],
   "source": [
    "import allel\n",
    "\n",
    "chrom= \"1\"\n",
    "ploidy= 2\n",
    "row_info= 6\n",
    "header_info= 9\n",
    "ksize= 3 # odd.\n",
    "bases = 'ACGT'\n",
    "collapsed= True\n",
    "\n",
    "scale_genSize= False\n",
    "diffs= False\n",
    "haps_extract= True\n",
    "\n",
    "sim_dir= 'D:/GitHub/fine-scale-mutation-spectrum-master/slim_pipe/mutation_counter/data/gravel_1m_1Ksamp/'\n",
    "#sim= \"gravel_1mC1.106064802\"\n",
    "sim= \"tests\"\n",
    "vcf_dir= sim_dir + sim + '/'\n",
    "vcf_file= vcf_dir + sim + '_' + 'chr' + chrom + '.vcf.gz'\n",
    "\n",
    "\n",
    "### read vcf file\n",
    "t0= time.time()\n",
    "genotype, summary, Names= read_vcf_allel(vcf_file,haps_extract= haps_extract)\n"
   ]
  },
  {
   "cell_type": "code",
   "execution_count": 136,
   "metadata": {},
   "outputs": [
    {
     "data": {
      "text/plain": [
       "(10, 9)"
      ]
     },
     "execution_count": 136,
     "metadata": {},
     "output_type": "execute_result"
    }
   ],
   "source": [
    "genotype.shape"
   ]
  },
  {
   "cell_type": "code",
   "execution_count": 137,
   "metadata": {},
   "outputs": [],
   "source": [
    "chrom= '1'\n",
    "min_size= 1\n",
    "samp= [2,1,1]\n",
    "row= [64,32][int(collapsed)]\n",
    "col= 3\n",
    "stepup= 'prop'\n",
    "outemp= './'\n",
    "indfile= 'ind_assignments.txt'\n",
    "single= True\n",
    "prop_gen_used= 1\n",
    "scale= 1\n",
    "frequency_range= [0,1]\n",
    "segregating= True"
   ]
  },
  {
   "cell_type": "code",
   "execution_count": 138,
   "metadata": {},
   "outputs": [
    {
     "name": "stdout",
     "output_type": "stream",
     "text": [
      "(10, 9)\n",
      "dict_keys(['pop1', 'pop2'])\n"
     ]
    }
   ],
   "source": [
    "\n",
    "t1= time.time()\n",
    "\n",
    "read_time= t1- t0\n",
    "\n",
    "print(genotype.shape)\n",
    "\n",
    "## read fasta\n",
    "fasta_file= vcf_dir + 'chr{}_{}.fa.gz'.format(chrom,sim)\n",
    "\n",
    "with gzip.open(fasta_file,'r') as f:\n",
    "    lines= f.readlines()\n",
    "    lines= [x.decode() for x in lines]\n",
    "\n",
    "refseq= lines[1].strip()\n",
    "\n",
    "### subset genotype if need be (not used here)\n",
    "positions= [int(x) for x in summary.POS]\n",
    "wstart= int(min(positions))-1\n",
    "wend= int(max(positions))\n",
    "\n",
    "Wlen= wend - wstart\n",
    "\n",
    "genotype_parse= [x for x in range(summary.shape[0]) if int(summary.POS[x])-1 >= wstart and int(summary.POS[x])-1 <= wend]\n",
    "Window= genotype[:,genotype_parse]\n",
    "subset_summary= summary.loc[genotype_parse,:].reset_index()\n",
    "## Create mutation type by SNP matrix, also identify positions to ignore. \n",
    "t0= time.time()\n",
    "mut_matrix, flag_reverse, flag_remove= vcf_muts_matrix_v1(refseq,subset_summary,start= wstart,end= wend,ksize= ksize,\n",
    "                                                    bases=bases, collapse= collapsed)\n",
    "\n",
    "## remove positions if mutation type is not possible to ascertain;\n",
    "## usually Ns, but sometimes if the SNP is found in the very last position\n",
    "## of the fasta, no 5'.\n",
    "retain= [x for x in range(Window.shape[1]) if x not in flag_remove]\n",
    "Window= Window[:,retain]\n",
    "subset_summary= subset_summary.loc[retain,:].reset_index()\n",
    "\n",
    "t1= time.time()\n",
    "time_mut= t1 - t0\n",
    "\n",
    "tag_list, tag_dict, pop_dict= ind_assignment_scatter_v1(sim,dir_sim= sim_dir, haps_extract= haps_extract,\n",
    "                  min_size= min_size, samp= samp, stepup= stepup, outemp= outemp,indfile= indfile)\n",
    "#\n",
    "print(pop_dict.keys())\n",
    "total_inds= sum([len(x) for x in pop_dict.values()])\n"
   ]
  },
  {
   "cell_type": "code",
   "execution_count": 139,
   "metadata": {},
   "outputs": [
    {
     "data": {
      "text/plain": [
       "(96, 9)"
      ]
     },
     "execution_count": 139,
     "metadata": {},
     "output_type": "execute_result"
    }
   ],
   "source": [
    "mut_matrix.shape"
   ]
  },
  {
   "cell_type": "code",
   "execution_count": 140,
   "metadata": {},
   "outputs": [
    {
     "data": {
      "text/plain": [
       "(10, 9)"
      ]
     },
     "execution_count": 140,
     "metadata": {},
     "output_type": "execute_result"
    }
   ],
   "source": [
    "Window.shape"
   ]
  },
  {
   "cell_type": "code",
   "execution_count": 141,
   "metadata": {},
   "outputs": [
    {
     "data": {
      "text/plain": [
       "array([[0, 0, 0, 1, 1, 1, 0, 0, 0],\n",
       "       [0, 0, 0, 1, 1, 1, 1, 1, 1],\n",
       "       [0, 1, 0, 0, 1, 0, 0, 1, 0],\n",
       "       [0, 1, 1, 0, 1, 1, 0, 1, 1],\n",
       "       [0, 1, 1, 0, 1, 1, 0, 1, 1],\n",
       "       [0, 0, 0, 1, 1, 1, 0, 0, 0],\n",
       "       [0, 0, 0, 1, 1, 1, 0, 0, 0],\n",
       "       [0, 1, 0, 0, 1, 0, 0, 1, 0],\n",
       "       [0, 1, 0, 0, 1, 0, 0, 1, 0],\n",
       "       [0, 1, 1, 0, 1, 1, 0, 1, 1]], dtype=int8)"
      ]
     },
     "execution_count": 141,
     "metadata": {},
     "output_type": "execute_result"
    }
   ],
   "source": [
    "Window"
   ]
  },
  {
   "cell_type": "code",
   "execution_count": 142,
   "metadata": {},
   "outputs": [],
   "source": [
    "\n",
    "\n",
    "def count_popKmers(Window, mut_matrix, pop_dict, single= True, frequency_range= [0,1],row=32,col=3,segregating= False,\n",
    "    scale= 1, prop_gen_used= 1, return_private= False,PA= {},pop_tag= '_ss'):\n",
    "    '''\n",
    "    Extract population mutation counts from _ind x kmer_ mutation matrix. \n",
    "    '''\n",
    "    pop_counts= {}\n",
    "    num_variants= {}\n",
    "    pop_seg= {}\n",
    "    PA_dict= {}\n",
    "\n",
    "    pop_list= list(pop_dict.keys())\n",
    "    \n",
    "    for pop in pop_list:\n",
    "        pop_ori= pop\n",
    "        if pop_tag in pop:\n",
    "            pop_ori= pop[len(pop_tag):].split('.')[0]\n",
    "        pop_gen= Window[pop_dict[pop],:]\n",
    "\n",
    "        freqs= np.sum(pop_gen,axis= 0) / pop_gen.shape[0]\n",
    "        ## discount alleles outside freq range.\n",
    "        in_out= (freqs <= frequency_range[0]) | (freqs >= frequency_range[1])\n",
    "        print('in_out')\n",
    "        print(freqs)\n",
    "        print(in_out)\n",
    "\n",
    "        if PA: \n",
    "            shared= [x for x in range(pop_gen.shape[1]) if PA[pop_ori][x] == 0]\n",
    "            pop_gen[:,shared] = 0\n",
    "        \n",
    "        if single: \n",
    "            pop_gen= np.sum(pop_gen,axis= 0) > 0\n",
    "            pop_gen= np.array(pop_gen,dtype= int).reshape(1,len(pop_gen))\n",
    "        \n",
    "        pop_seg[pop]= pop_gen * scale * prop_gen_used\n",
    "        pop_gen[:,in_out]= 0\n",
    "        print(pop_gen)\n",
    "        pop_collapsed_mat= geno_muts_v2(pop_gen, mut_matrix)\n",
    "        pop_summed= np.sum(pop_collapsed_mat,axis= 0)\n",
    "        \n",
    "        pop_counts[pop]= pop_summed.reshape(row,col) * scale * prop_gen_used\n",
    "        \n",
    "        num_variants[pop]= np.sum(pop_collapsed_mat) * scale * prop_gen_used\n",
    "\n",
    "    pop_summary= {\n",
    "        'counts': pop_counts,\n",
    "        'Nvars': num_variants,\n",
    "        'sizes': {z:len(g) for z,g in pop_dict.items()}\n",
    "    }\n",
    "\n",
    "    if segregating:\n",
    "        pop_summary['seg']= pop_seg\n",
    "\n",
    "    if return_private:\n",
    "        pop_array= [pop_seg[x] for x in pop_list]\n",
    "        pop_array= np.array(pop_array)\n",
    "        pop_sum= np.sum(pop_array,axis= 0)[0]\n",
    "\n",
    "        PA_dict= {z: np.sum(pop_seg[z],axis= 0) for z in pop_list}\n",
    "\n",
    "        PA_dict= {z: [int(g[x] == pop_sum[x]) for x in range(len(g))] for z,g in PA_dict.items()}\n",
    "\n",
    "\n",
    "    return pop_summary, PA_dict\n"
   ]
  },
  {
   "cell_type": "code",
   "execution_count": 143,
   "metadata": {},
   "outputs": [
    {
     "name": "stdout",
     "output_type": "stream",
     "text": [
      "[[0 0 0 0 0 0 1 1 1]]\n",
      "[[0 0 1 0 0 1 0 0 1]]\n",
      "[[0 0 0 0 0 0 1 0 0]]\n",
      "[[0 0 1 0 0 0 0 0 0]]\n"
     ]
    }
   ],
   "source": [
    "return_private= True\n",
    "data_kmer= {}\n",
    "pop_summary, PA_dict= count_popKmers(Window, mut_matrix, pop_dict, single= single, prop_gen_used= prop_gen_used,\n",
    "                          frequency_range= frequency_range,row=row,col=col,segregating= segregating,scale= scale,\n",
    "                          return_private= return_private)\n",
    "\n",
    "data_kmer[sim]= pop_summary\n",
    "\n",
    "if return_private: \n",
    "    pop_summary, dummy= count_popKmers(Window, mut_matrix, pop_dict, single= single, prop_gen_used= prop_gen_used,\n",
    "                              frequency_range= frequency_range,row=row,col=col,segregating= segregating,scale= scale,\n",
    "                              PA= PA_dict)\n",
    "    data_kmer[sim]= pop_summary\n"
   ]
  },
  {
   "cell_type": "code",
   "execution_count": 122,
   "metadata": {},
   "outputs": [
    {
     "data": {
      "text/plain": [
       "array([[0, 0, 0, 1, 1, 1, 0, 0, 0],\n",
       "       [0, 0, 0, 1, 1, 1, 1, 1, 1],\n",
       "       [0, 0, 0, 1, 1, 1, 0, 0, 0],\n",
       "       [0, 0, 0, 1, 1, 1, 0, 0, 0]], dtype=int8)"
      ]
     },
     "execution_count": 122,
     "metadata": {},
     "output_type": "execute_result"
    }
   ],
   "source": [
    "Window[pop_dict['pop1']]"
   ]
  },
  {
   "cell_type": "code",
   "execution_count": 123,
   "metadata": {},
   "outputs": [
    {
     "data": {
      "text/plain": [
       "array([[0, 1, 0, 0, 1, 0, 0, 1, 0],\n",
       "       [0, 1, 1, 0, 1, 1, 0, 1, 1],\n",
       "       [0, 1, 1, 0, 1, 1, 0, 1, 1],\n",
       "       [0, 1, 0, 0, 1, 0, 0, 1, 0],\n",
       "       [0, 1, 0, 0, 1, 0, 0, 1, 0],\n",
       "       [0, 1, 1, 0, 1, 1, 0, 1, 1]], dtype=int8)"
      ]
     },
     "execution_count": 123,
     "metadata": {},
     "output_type": "execute_result"
    }
   ],
   "source": [
    "Window[pop_dict[\"pop2\"]]"
   ]
  },
  {
   "cell_type": "code",
   "execution_count": 146,
   "metadata": {},
   "outputs": [
    {
     "data": {
      "text/plain": [
       "(96, 9)"
      ]
     },
     "execution_count": 146,
     "metadata": {},
     "output_type": "execute_result"
    }
   ],
   "source": [
    "mut_matrix.shape"
   ]
  },
  {
   "cell_type": "code",
   "execution_count": 145,
   "metadata": {},
   "outputs": [
    {
     "name": "stdout",
     "output_type": "stream",
     "text": [
      "['AAAC', 'TTTG']\n",
      "['AAAG', 'TTTC']\n",
      "['AAAT', 'TTTA']\n",
      "['AACC', 'GTTG']\n",
      "['AACG', 'GTTC']\n",
      "['AACT', 'GTTA']\n",
      "['AAGC', 'CTTG']\n",
      "['AAGG', 'CTTC']\n",
      "['AAGT', 'CTTA']\n",
      "['AATC', 'ATTG']\n",
      "['AATG', 'ATTC']\n",
      "['AATT', 'ATTA']\n",
      "['ACAA', 'TGTT']\n",
      "['ACAG', 'TGTC']\n",
      "['ACAT', 'TGTA']\n",
      "['ACCA', 'GGTT']\n",
      "['ACCG', 'GGTC']\n",
      "['ACCT', 'GGTA']\n",
      "['ACGA', 'CGTT']\n",
      "['ACGG', 'CGTC']\n",
      "['ACGT', 'CGTA']\n",
      "['ACTA', 'AGTT']\n",
      "['ACTG', 'AGTC']\n",
      "['ACTT', 'AGTA']\n",
      "['AGAA', 'TCTT']\n",
      "['AGAC', 'TCTG']\n",
      "['AGAT', 'TCTA']\n",
      "['AGCA', 'GCTT']\n",
      "['AGCC', 'GCTG']\n",
      "['AGCT', 'GCTA']\n",
      "['AGGA', 'CCTT']\n",
      "['AGGC', 'CCTG']\n",
      "['AGGT', 'CCTA']\n",
      "['ATAA', 'TATT']\n",
      "['ATAC', 'TATG']\n",
      "['ATAG', 'TATC']\n",
      "['ATCA', 'GATT']\n",
      "['ATCC', 'GATG']\n",
      "['ATCG', 'GATC']\n",
      "['ATGA', 'CATT']\n",
      "['ATGC', 'CATG']\n",
      "['ATGG', 'CATC']\n",
      "['CAAC', 'TTGG']\n",
      "['CAAG', 'TTGC']\n",
      "['CAAT', 'TTGA']\n",
      "['CACC', 'GTGG']\n",
      "['CACG', 'GTGC']\n",
      "['CACT', 'GTGA']\n",
      "['CAGC', 'CTGG']\n",
      "['CAGG', 'CTGC']\n",
      "['CAGT', 'CTGA']\n",
      "['CCAA', 'TGGT']\n",
      "['CCAG', 'TGGC']\n",
      "['CCAT', 'TGGA']\n",
      "['CCCA', 'GGGT']\n",
      "['CCCG', 'GGGC']\n",
      "['CCCT', 'GGGA']\n",
      "['CCGA', 'CGGT']\n",
      "['CCGG', 'CGGC']\n",
      "['CCGT', 'CGGA']\n",
      "['CGAA', 'TCGT']\n",
      "['CGAC', 'TCGG']\n",
      "['CGAT', 'TCGA']\n",
      "['CGCA', 'GCGT']\n",
      "['CGCC', 'GCGG']\n",
      "['CGCT', 'GCGA']\n",
      "['CTAA', 'TAGT']\n",
      "['CTAC', 'TAGG']\n",
      "['CTAG', 'TAGC']\n",
      "['CTCA', 'GAGT']\n",
      "['CTCC', 'GAGG']\n",
      "['CTCG', 'GAGC']\n",
      "['GAAC', 'TTCG']\n",
      "['GAAG', 'TTCC']\n",
      "['GAAT', 'TTCA']\n",
      "['GACC', 'GTCG']\n",
      "['GACG', 'GTCC']\n",
      "['GACT', 'GTCA']\n",
      "['GCAA', 'TGCT']\n",
      "['GCAG', 'TGCC']\n",
      "['GCAT', 'TGCA']\n",
      "['GCCA', 'GGCT']\n",
      "['GCCG', 'GGCC']\n",
      "['GCCT', 'GGCA']\n",
      "['GGAA', 'TCCT']\n",
      "['GGAC', 'TCCG']\n",
      "['GGAT', 'TCCA']\n",
      "['GTAA', 'TACT']\n",
      "['GTAC', 'TACG']\n",
      "['GTAG', 'TACC']\n",
      "['TAAC', 'TTAG']\n",
      "['TAAG', 'TTAC']\n",
      "['TAAT', 'TTAA']\n",
      "['TCAA', 'TGAT']\n",
      "['TCAG', 'TGAC']\n",
      "['TCAT', 'TGAA']\n"
     ]
    }
   ],
   "source": [
    "for idx in range(mut_matrix.shape[0]):\n",
    "    print(kmer_idx[idx])"
   ]
  },
  {
   "cell_type": "code",
   "execution_count": 130,
   "metadata": {},
   "outputs": [],
   "source": [
    "mutations= get_mutations(bases= bases,ksize= ksize)\n",
    "kmers, kmer_idx= kmer_comp_index(mutations)\n",
    "\n",
    "mut_lib= kmer_mut_index(mutations)\n"
   ]
  },
  {
   "cell_type": "code",
   "execution_count": 134,
   "metadata": {},
   "outputs": [
    {
     "data": {
      "text/plain": [
       "dict_keys([0, 1, 2, 3, 4, 5, 6, 7, 8, 9, 10, 11, 12, 13, 14, 15, 16, 17, 18, 19, 20, 21, 22, 23, 24, 25, 26, 27, 28, 29, 30, 31, 32, 33, 34, 35, 36, 37, 38, 39, 40, 41, 42, 43, 44, 45, 46, 47, 48, 49, 50, 51, 52, 53, 54, 55, 56, 57, 58, 59, 60, 61, 62, 63, 64, 65, 66, 67, 68, 69, 70, 71, 72, 73, 74, 75, 76, 77, 78, 79, 80, 81, 82, 83, 84, 85, 86, 87, 88, 89, 90, 91, 92, 93, 94, 95])"
      ]
     },
     "execution_count": 134,
     "metadata": {},
     "output_type": "execute_result"
    }
   ],
   "source": [
    "kmer_idx.keys()"
   ]
  },
  {
   "cell_type": "code",
   "execution_count": 32,
   "metadata": {},
   "outputs": [
    {
     "data": {
      "text/plain": [
       "(192, 9118)"
      ]
     },
     "execution_count": 32,
     "metadata": {},
     "output_type": "execute_result"
    }
   ],
   "source": [
    "## Mutation-type by SNP matrix\n",
    "## 192 types of mutation; 9118 SNPs\n",
    "\n",
    "mut_matrix.shape"
   ]
  },
  {
   "cell_type": "code",
   "execution_count": 34,
   "metadata": {},
   "outputs": [
    {
     "data": {
      "text/plain": [
       "(3000, 9118)"
      ]
     },
     "execution_count": 34,
     "metadata": {},
     "output_type": "execute_result"
    }
   ],
   "source": [
    "## genotype array:\n",
    "Window.shape"
   ]
  },
  {
   "cell_type": "markdown",
   "metadata": {},
   "source": [
    "### Example"
   ]
  },
  {
   "cell_type": "code",
   "execution_count": 39,
   "metadata": {},
   "outputs": [
    {
     "data": {
      "text/plain": [
       "array([[0, 0, 0, 0],\n",
       "       [0, 0, 0, 0],\n",
       "       [0, 0, 0, 0]], dtype=int8)"
      ]
     },
     "execution_count": 39,
     "metadata": {},
     "output_type": "execute_result"
    }
   ],
   "source": [
    "genex= []\n",
    "mutex= mut_matrix[:,:Nsnps]\n",
    "\n",
    "genex"
   ]
  },
  {
   "cell_type": "code",
   "execution_count": 40,
   "metadata": {},
   "outputs": [
    {
     "data": {
      "text/plain": [
       "array([ 19,   3, 119, ...,  11,   1,   2], dtype=int8)"
      ]
     },
     "execution_count": 40,
     "metadata": {},
     "output_type": "execute_result"
    }
   ],
   "source": [
    "sum(Window)"
   ]
  },
  {
   "cell_type": "code",
   "execution_count": null,
   "metadata": {},
   "outputs": [],
   "source": []
  }
 ],
 "metadata": {
  "kernelspec": {
   "display_name": "Python 3",
   "language": "python",
   "name": "python3"
  },
  "language_info": {
   "codemirror_mode": {
    "name": "ipython",
    "version": 3
   },
   "file_extension": ".py",
   "mimetype": "text/x-python",
   "name": "python",
   "nbconvert_exporter": "python",
   "pygments_lexer": "ipython3",
   "version": "3.7.3"
  }
 },
 "nbformat": 4,
 "nbformat_minor": 2
}
