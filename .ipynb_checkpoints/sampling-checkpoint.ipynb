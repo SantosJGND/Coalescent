{
 "cells": [
  {
   "cell_type": "code",
   "execution_count": 1,
   "metadata": {},
   "outputs": [
    {
     "data": {
      "text/html": [
       "        <script type=\"text/javascript\">\n",
       "        window.PlotlyConfig = {MathJaxConfig: 'local'};\n",
       "        if (window.MathJax) {MathJax.Hub.Config({SVG: {font: \"STIX-Web\"}});}\n",
       "        if (typeof require !== 'undefined') {\n",
       "        require.undef(\"plotly\");\n",
       "        requirejs.config({\n",
       "            paths: {\n",
       "                'plotly': ['https://cdn.plot.ly/plotly-latest.min']\n",
       "            }\n",
       "        });\n",
       "        require(['plotly'], function(Plotly) {\n",
       "            window._Plotly = Plotly;\n",
       "        });\n",
       "        }\n",
       "        </script>\n",
       "        "
      ]
     },
     "metadata": {},
     "output_type": "display_data"
    }
   ],
   "source": [
    "import numpy as np\n",
    "import itertools as it\n",
    "\n",
    "import allel\n",
    "import pandas as pd\n",
    "\n",
    "from _plotly_future_ import v4_subplots\n",
    "import plotly.graph_objs as go\n",
    "from plotly.offline import download_plotlyjs, init_notebook_mode, plot, iplot\n",
    "from plotly.graph_objs import *\n",
    "\n",
    "from ipywidgets import interact, interactive, fixed, interact_manual\n",
    "import ipywidgets as widgets\n",
    "init_notebook_mode(connected=True)\n",
    "    \n",
    "from datetime import datetime\n",
    "\n",
    "import collections\n",
    "def recursively_default_dict():\n",
    "    return collections.defaultdict(recursively_default_dict)\n",
    "\n",
    "import matplotlib\n",
    "matplotlib.use('Agg')\n",
    "\n",
    "import matplotlib.pyplot as plt"
   ]
  },
  {
   "cell_type": "markdown",
   "metadata": {},
   "source": [
    "## Private allele SFS.\n",
    "\n",
    "\n",
    "Needed: \n",
    "    - effective population size per generation;\n",
    "    - number of generations;\n",
    "    - scaled mutation rate.\n",
    "\n",
    "### Model\n",
    "\n",
    "We're going to go with chimp populations, for which models have been proposed.\n",
    "see model dict below. `pop` dictionaries contain model parameters per population specifc branches:\n",
    "\n",
    "- `N`: Population effective size;\n",
    "- `T`: Branch length\n"
   ]
  },
  {
   "cell_type": "code",
   "execution_count": 2,
   "metadata": {},
   "outputs": [],
   "source": [
    "model_dict= {\n",
    "        'schweinfurthii': {\n",
    "            'N':10528, \n",
    "            'T':17925\n",
    "        },\n",
    "        'troglodytes': {\n",
    "            'N': 72001, \n",
    "            'T': 17925\n",
    "            },\n",
    "        'ellioti': {\n",
    "            'N': 6033,\n",
    "            'T': 33402\n",
    "        },\n",
    "        'verus': {\n",
    "            'N': 5710,\n",
    "            'T': 33402\n",
    "        }\n",
    "}"
   ]
  },
  {
   "cell_type": "markdown",
   "metadata": {},
   "source": [
    "### Mutations \n",
    "\n",
    "We re going to refer here to coalescent theory. Our objective will not concern statistics on observed data, but simulations. For this we will rely on the notebook [Simulations](https://nbviewer.jupyter.org/github/SantosJGND/Coalescent/blob/master/Simulations.ipynb), section **Algorithms for simulating sequence evolution**,  from this [repository](https://github.com/SantosJGND/Coalescent) focused on coalescent explorations in python.\n",
    "\n",
    "\n",
    "To keep it simple we will consider in this notebook a single simulation. \n",
    "\n",
    "Given :\n",
    "- time;\n",
    "- effective population size;\n",
    "- scaled mutation rate;\n",
    "\n",
    "we draw the number of expected mutations emerging in our branch of interest until the present. "
   ]
  },
  {
   "cell_type": "markdown",
   "metadata": {},
   "source": [
    "## Attempt I. Coalescent given number of samples.\n",
    "\n",
    "We use a procedure of coalescent simulation given the number of samples. We extract per simulation the number of mutations simulated that are more recent than the MRCA of this branch. See the notebook above for a visual inspection of the output of the simulation procedure. We will use the function SimIII from that notebook, modified here for our purposes. \n",
    "\n",
    "We first chose a model from the dictionary above. \n"
   ]
  },
  {
   "cell_type": "code",
   "execution_count": 3,
   "metadata": {},
   "outputs": [],
   "source": [
    "pop_select= 'schweinfurthii'"
   ]
  },
  {
   "cell_type": "markdown",
   "metadata": {},
   "source": [
    "We begin with a simple example: the number of private mutations expected expected in a sample of size `k` of haplotypes of size `seqL`, given an estimate of mutation rate per generation per base pair `muNuc`.\n",
    "\n",
    "From this input we calculate the parameters `mu`, the expected mutation rate per generation and `theta`, the Watterson estimator of population genetic diversity. "
   ]
  },
  {
   "cell_type": "code",
   "execution_count": 4,
   "metadata": {},
   "outputs": [],
   "source": [
    "muNuc= 1.08e-8\n",
    "seqL= 1e6\n",
    "\n",
    "mu= muNuc * seqL\n",
    "Ne= model_dict[pop_select][\"N\"]\n",
    "k= 100 # Number of samples\n",
    "Theta= 4 * Ne * mu\n"
   ]
  },
  {
   "cell_type": "markdown",
   "metadata": {},
   "source": [
    "We now perform coalescent simulations. This returns a network containing coalescent and mutation events from present haplotypes to their MRCA (function `SimIII`). Each event has an associated time stamp. We use the function `get_PA` to extract the time stamps of mutation events more recent than the branch of interest. "
   ]
  },
  {
   "cell_type": "code",
   "execution_count": 7,
   "metadata": {},
   "outputs": [
    {
     "name": "stdout",
     "output_type": "stream",
     "text": [
      "number of private alleles obtained: 1701\n"
     ]
    }
   ],
   "source": [
    "from tools.coal_sims import SimIII, get_PA\n",
    "\n",
    "sim_keys, leaves, edges= SimIII(k= k, Theta= Theta)\n",
    "\n",
    "branch_len= model_dict[pop_select]['T']\n",
    "MRCA= branch_len / Ne / 2\n",
    "\n",
    "PA_obtain= get_PA(leaves,Ne,MRCA)\n",
    "print('number of private alleles obtained: {}'.format(len(PA_obtain)))"
   ]
  },
  {
   "cell_type": "markdown",
   "metadata": {},
   "source": [
    "#### get results across sample sizes\n",
    "\n",
    "We now move to obtain results for a range of sample sizes. \n",
    "\n",
    "A number of repeats is perform per sample size, simulations are probablistic."
   ]
  },
  {
   "cell_type": "code",
   "execution_count": 12,
   "metadata": {},
   "outputs": [],
   "source": [
    "Nreps= 50\n",
    "sample_range= [2,500]\n",
    "Nsteps= 20\n",
    "\n",
    "range_use= np.linspace(*sample_range,Nsteps)\n",
    "Nstudy_dict= {int(z):[] for z in range_use}\n",
    "\n",
    "for si in range_use:\n",
    "    k= int(si)\n",
    "    for nr in range(Nreps):\n",
    "        \n",
    "        sim_keys, leaves, edges= SimIII(k= k, Theta= Theta)\n",
    "        \n",
    "        PA_obtain= get_PA(leaves,Ne,MRCA)\n",
    "        \n",
    "        Nstudy_dict[k].append(len(PA_obtain))\n",
    "        "
   ]
  },
  {
   "cell_type": "markdown",
   "metadata": {},
   "source": [
    "The number of private alleles sampled is plotted against sample size. "
   ]
  },
  {
   "cell_type": "code",
   "execution_count": 13,
   "metadata": {},
   "outputs": [
    {
     "data": {
      "application/vnd.plotly.v1+json": {
       "config": {
        "linkText": "Export to plot.ly",
        "plotlyServerURL": "https://plot.ly",
        "showLink": false
       },
       "data": [
        {
         "error_y": {
          "array": [
           141.19550276124235,
           166.7307398172275,
           175.3699506757073,
           179.98355924917144,
           161.99044539725173,
           210.02219787441518,
           161.54180140137103,
           187.82330952254037,
           151.40267500939342,
           171.72314928395647,
           194.4175753372107,
           191.00006387433484,
           177.8042395445058,
           181.85820410418663,
           168.42388904190523,
           169.10815001057756,
           171.25459877036877,
           174.49105535814724,
           204.33997259469328,
           161.3454678632158
          ],
          "type": "data",
          "visible": true
         },
         "type": "scatter",
         "uid": "335623ce-e908-4950-b0f4-121a0899c719",
         "x": [
          2,
          28,
          54,
          80,
          106,
          133,
          159,
          185,
          211,
          237,
          264,
          290,
          316,
          342,
          368,
          395,
          421,
          447,
          473,
          500
         ],
         "y": [
          206.9,
          1213.02,
          1525.02,
          1660.28,
          1821.34,
          1908.58,
          1953.08,
          2048.62,
          2135.1,
          2144.8,
          2182.92,
          2257.66,
          2266.82,
          2318.44,
          2347.44,
          2400.44,
          2461.32,
          2451.46,
          2484.66,
          2495.6
         ]
        }
       ],
       "layout": {
        "title": {
         "text": "schweinfurthii"
        },
        "xaxis": {
         "title": {
          "text": "Nsamp"
         }
        },
        "yaxis": {
         "title": {
          "text": "private alleles"
         }
        }
       }
      },
      "text/html": [
       "<div>\n",
       "        \n",
       "        \n",
       "            <div id=\"92324371-1eec-4b24-8f18-f02f73caa37d\" class=\"plotly-graph-div\" style=\"height:525px; width:100%;\"></div>\n",
       "            <script type=\"text/javascript\">\n",
       "                require([\"plotly\"], function(Plotly) {\n",
       "                    window.PLOTLYENV=window.PLOTLYENV || {};\n",
       "                    window.PLOTLYENV.BASE_URL='https://plot.ly';\n",
       "                    \n",
       "                if (document.getElementById(\"92324371-1eec-4b24-8f18-f02f73caa37d\")) {\n",
       "                    Plotly.newPlot(\n",
       "                        '92324371-1eec-4b24-8f18-f02f73caa37d',\n",
       "                        [{\"error_y\": {\"array\": [141.19550276124235, 166.7307398172275, 175.3699506757073, 179.98355924917144, 161.99044539725173, 210.02219787441518, 161.54180140137103, 187.82330952254037, 151.40267500939342, 171.72314928395647, 194.4175753372107, 191.00006387433484, 177.8042395445058, 181.85820410418663, 168.42388904190523, 169.10815001057756, 171.25459877036877, 174.49105535814724, 204.33997259469328, 161.3454678632158], \"type\": \"data\", \"visible\": true}, \"type\": \"scatter\", \"uid\": \"335623ce-e908-4950-b0f4-121a0899c719\", \"x\": [2, 28, 54, 80, 106, 133, 159, 185, 211, 237, 264, 290, 316, 342, 368, 395, 421, 447, 473, 500], \"y\": [206.9, 1213.02, 1525.02, 1660.28, 1821.34, 1908.58, 1953.08, 2048.62, 2135.1, 2144.8, 2182.92, 2257.66, 2266.82, 2318.44, 2347.44, 2400.44, 2461.32, 2451.46, 2484.66, 2495.6]}],\n",
       "                        {\"title\": {\"text\": \"schweinfurthii\"}, \"xaxis\": {\"title\": {\"text\": \"Nsamp\"}}, \"yaxis\": {\"title\": {\"text\": \"private alleles\"}}},\n",
       "                        {\"showLink\": false, \"linkText\": \"Export to plot.ly\", \"plotlyServerURL\": \"https://plot.ly\", \"responsive\": true}\n",
       "                    ).then(function(){\n",
       "                            \n",
       "var gd = document.getElementById('92324371-1eec-4b24-8f18-f02f73caa37d');\n",
       "var x = new MutationObserver(function (mutations, observer) {{\n",
       "        var display = window.getComputedStyle(gd).display;\n",
       "        if (!display || display === 'none') {{\n",
       "            console.log([gd, 'removed!']);\n",
       "            Plotly.purge(gd);\n",
       "            observer.disconnect();\n",
       "        }}\n",
       "}});\n",
       "\n",
       "// Listen for the removal of the full notebook cells\n",
       "var notebookContainer = gd.closest('#notebook-container');\n",
       "if (notebookContainer) {{\n",
       "    x.observe(notebookContainer, {childList: true});\n",
       "}}\n",
       "\n",
       "// Listen for the clearing of the current output cell\n",
       "var outputEl = gd.closest('.output');\n",
       "if (outputEl) {{\n",
       "    x.observe(outputEl, {childList: true});\n",
       "}}\n",
       "\n",
       "                        })\n",
       "                };\n",
       "                });\n",
       "            </script>\n",
       "        </div>"
      ]
     },
     "metadata": {},
     "output_type": "display_data"
    }
   ],
   "source": [
    "stats_dict= {\n",
    "    z: {\n",
    "        'mean': np.mean(g),\n",
    "        'std': np.std(g)\n",
    "    } for z,g in Nstudy_dict.items()\n",
    "}\n",
    "samp_order= sorted(Nstudy_dict.keys())\n",
    "\n",
    "fig= [go.Scatter(\n",
    "    x= samp_order,\n",
    "    y= [stats_dict[x]['mean'] for x in samp_order],\n",
    "    error_y= dict(\n",
    "        array= [stats_dict[x]['std'] for x in samp_order],\n",
    "        type= 'data',\n",
    "        #symmetric= True,\n",
    "        visible=True\n",
    "    )\n",
    ")]\n",
    "\n",
    "layout= go.Layout(\n",
    "    title= pop_select,\n",
    "    xaxis= dict(\n",
    "        title= 'Nsamp'\n",
    "    ),\n",
    "    yaxis= dict(\n",
    "        title= 'private alleles'\n",
    "    )\n",
    ")\n",
    "\n",
    "Figure= go.Figure(data=fig, layout= layout)\n",
    "iplot(Figure)"
   ]
  },
  {
   "cell_type": "markdown",
   "metadata": {},
   "source": [
    "### Across populations:\n",
    "\n",
    "We now scale this approach to cover all branches in `model_dict`. \n",
    "\n",
    "**common parameters**"
   ]
  },
  {
   "cell_type": "code",
   "execution_count": 15,
   "metadata": {},
   "outputs": [],
   "source": [
    "### biological parameters\n",
    "muNuc= 1.08e-8\n",
    "seqL= 1e6\n",
    "mu= muNuc * seqL\n",
    "\n",
    "## sampling parameters\n",
    "Nreps= 10\n",
    "sample_range= [2,100]\n",
    "Nsteps= 20\n",
    "range_use= np.linspace(*sample_range,Nsteps)"
   ]
  },
  {
   "cell_type": "markdown",
   "metadata": {},
   "source": [
    "**deployment**"
   ]
  },
  {
   "cell_type": "code",
   "execution_count": 16,
   "metadata": {},
   "outputs": [],
   "source": [
    "pops_dict= {}\n",
    "\n",
    "for pop_select in model_dict.keys():\n",
    "    Ne= model_dict[pop_select][\"N\"]\n",
    "    \n",
    "    Theta= 4 * Ne * mu\n",
    "    \n",
    "    branch_len= model_dict[pop_select]['T']\n",
    "    MRCA= branch_len / Ne / 2\n",
    "\n",
    "    Nstudy_dict= {int(z):[] for z in range_use}\n",
    "\n",
    "    for si in range_use:\n",
    "        k= int(si)\n",
    "        for nr in range(Nreps):\n",
    "\n",
    "            sim_keys, leaves, edges= SimIII(k= k, Theta= Theta)\n",
    "\n",
    "            PA_obtain= get_PA(leaves,Ne,MRCA)\n",
    "\n",
    "            Nstudy_dict[k].append(len(PA_obtain))\n",
    "    \n",
    "    stats_dict= {\n",
    "        z: {\n",
    "            'mean': np.mean(g),\n",
    "            'std': np.std(g)\n",
    "        } for z,g in Nstudy_dict.items()\n",
    "    }\n",
    "    samp_order= sorted(Nstudy_dict.keys())\n",
    "    \n",
    "    pops_dict[pop_select]= stats_dict\n"
   ]
  },
  {
   "cell_type": "markdown",
   "metadata": {},
   "source": [
    "**plot**"
   ]
  },
  {
   "cell_type": "code",
   "execution_count": 21,
   "metadata": {},
   "outputs": [
    {
     "data": {
      "application/vnd.plotly.v1+json": {
       "config": {
        "linkText": "Export to plot.ly",
        "plotlyServerURL": "https://plot.ly",
        "showLink": false
       },
       "data": [
        {
         "error_y": {
          "array": [
           127.87165440393738,
           154.242665952064,
           108.84066335703766,
           222.15690401155666,
           131.8813481884379,
           160.11399064416574,
           177.44421658650924,
           165.55086831545162,
           203.7645945693216,
           154.80620142617025,
           124.3599614023742,
           175.78964702166053,
           190.6883321024126,
           162.93912973868493,
           215.57692362588347,
           161.84748994037565,
           145.11612591300803,
           108.03559598576757,
           171.41531436834924,
           144.66751535849366
          ],
          "type": "data",
          "visible": true
         },
         "name": "schweinfurthii",
         "type": "scatter",
         "uid": "41b70328-8f3d-4a88-b96e-9d67d20564a4",
         "x": [
          2,
          7,
          12,
          17,
          22,
          27,
          32,
          38,
          43,
          48,
          53,
          58,
          63,
          69,
          74,
          79,
          84,
          89,
          94,
          100
         ],
         "y": [
          238.8,
          690,
          837.9,
          1006.9,
          1101.9,
          1210.1,
          1393.5,
          1335.1,
          1383.3,
          1481.2,
          1550,
          1555,
          1563.4,
          1569.2,
          1625.7,
          1699.7,
          1665.9,
          1748.1,
          1812.3,
          1783.1
         ]
        },
        {
         "error_y": {
          "array": [
           94.90921978395987,
           108.677688602583,
           124.24673033927291,
           240.86944596606685,
           249.15168070876018,
           303.81863010684515,
           289.1271173722728,
           304.7018378677753,
           234.7765959374997,
           259.50608856055766,
           253.9626153590327,
           281.6884981677456,
           283.82698955525706,
           393.52204512580994,
           352.8933124897665,
           330.77347233416407,
           426.58280556065546,
           254.81736597021796,
           305.6467896118001,
           474.3492805939522
          ],
          "type": "data",
          "visible": true
         },
         "name": "troglodytes",
         "type": "scatter",
         "uid": "fec5f6c0-3760-454a-9a96-f546d78b41f4",
         "x": [
          2,
          7,
          12,
          17,
          22,
          27,
          32,
          38,
          43,
          48,
          53,
          58,
          63,
          69,
          74,
          79,
          84,
          89,
          94,
          100
         ],
         "y": [
          355.8,
          1138.4,
          1745.5,
          2240.9,
          2735.2,
          2940.8,
          3475.9,
          3861.7,
          4043.5,
          4374.7,
          4595.3,
          4913.7,
          5139.2,
          5317,
          5334.1,
          5601.1,
          5888.9,
          5958.1,
          6033.8,
          6217.4
         ]
        },
        {
         "error_y": {
          "array": [
           165.22396920543943,
           209.6698595411367,
           307.2607361834571,
           184.91892818205497,
           279.8814749139357,
           257.5357062622579,
           286.1473221961023,
           194.65407778929267,
           256.0519673816235,
           256.3197417289585,
           235.6863169553973,
           141.06934465006918,
           97.53794133566691,
           149.7082496056914,
           275.80471352027325,
           214.16117762096846,
           267.6547216097635,
           116.80963145220518,
           239.41597691048108,
           194.64644872177863
          ],
          "type": "data",
          "visible": true
         },
         "name": "ellioti",
         "type": "scatter",
         "uid": "f0997487-1081-4eb0-9690-214a598f42ce",
         "x": [
          2,
          7,
          12,
          17,
          22,
          27,
          32,
          38,
          43,
          48,
          53,
          58,
          63,
          69,
          74,
          79,
          84,
          89,
          94,
          100
         ],
         "y": [
          205.8,
          452.5,
          669.8,
          788.7,
          931.6,
          879.6,
          1036.9,
          1157.3,
          1226.7,
          1156.7,
          1138.4,
          1226.2,
          1140.5,
          1129.8,
          1241.4,
          1292.3,
          1327.5,
          1146.9,
          1331.3,
          1279.6
         ]
        },
        {
         "error_y": {
          "array": [
           157.20143129119404,
           280.07991716651156,
           141.4496376806954,
           261.9630699163529,
           259.02588673721397,
           174.74026439261218,
           178.62723756471183,
           279.54792075778346,
           250.09480202515206,
           185.19473534633755,
           331.7354518287125,
           296.88354619277914,
           241.53817503657677,
           187.7364109596218,
           229.15889683798008,
           249.26092754380898,
           238.78693431592944,
           251.7816712947946,
           227.45023631555102,
           214.60114165586353
          ],
          "type": "data",
          "visible": true
         },
         "name": "verus",
         "type": "scatter",
         "uid": "a1e0c2e8-e79f-40e3-a9ac-9d3978349020",
         "x": [
          2,
          7,
          12,
          17,
          22,
          27,
          32,
          38,
          43,
          48,
          53,
          58,
          63,
          69,
          74,
          79,
          84,
          89,
          94,
          100
         ],
         "y": [
          187.1,
          618.8,
          526,
          793.5,
          859.3,
          770.2,
          1016.9,
          915.6,
          1015.3,
          1049.1,
          1038.3,
          1128.4,
          1111.9,
          1237.2,
          1238,
          1270.3,
          1092,
          1177.3,
          1248.3,
          1263.5
         ]
        }
       ],
       "layout": {
        "height": 950,
        "title": {
         "text": "pop comparison"
        },
        "width": 950,
        "xaxis": {
         "title": {
          "text": "Nsamp"
         }
        },
        "yaxis": {
         "title": {
          "text": "# of private alleles"
         }
        }
       }
      },
      "text/html": [
       "<div>\n",
       "        \n",
       "        \n",
       "            <div id=\"5c97f417-8c57-44d7-9914-0830df9b145d\" class=\"plotly-graph-div\" style=\"height:950px; width:950px;\"></div>\n",
       "            <script type=\"text/javascript\">\n",
       "                require([\"plotly\"], function(Plotly) {\n",
       "                    window.PLOTLYENV=window.PLOTLYENV || {};\n",
       "                    window.PLOTLYENV.BASE_URL='https://plot.ly';\n",
       "                    \n",
       "                if (document.getElementById(\"5c97f417-8c57-44d7-9914-0830df9b145d\")) {\n",
       "                    Plotly.newPlot(\n",
       "                        '5c97f417-8c57-44d7-9914-0830df9b145d',\n",
       "                        [{\"error_y\": {\"array\": [127.87165440393738, 154.242665952064, 108.84066335703766, 222.15690401155666, 131.8813481884379, 160.11399064416574, 177.44421658650924, 165.55086831545162, 203.7645945693216, 154.80620142617025, 124.3599614023742, 175.78964702166053, 190.6883321024126, 162.93912973868493, 215.57692362588347, 161.84748994037565, 145.11612591300803, 108.03559598576757, 171.41531436834924, 144.66751535849366], \"type\": \"data\", \"visible\": true}, \"name\": \"schweinfurthii\", \"type\": \"scatter\", \"uid\": \"41b70328-8f3d-4a88-b96e-9d67d20564a4\", \"x\": [2, 7, 12, 17, 22, 27, 32, 38, 43, 48, 53, 58, 63, 69, 74, 79, 84, 89, 94, 100], \"y\": [238.8, 690.0, 837.9, 1006.9, 1101.9, 1210.1, 1393.5, 1335.1, 1383.3, 1481.2, 1550.0, 1555.0, 1563.4, 1569.2, 1625.7, 1699.7, 1665.9, 1748.1, 1812.3, 1783.1]}, {\"error_y\": {\"array\": [94.90921978395987, 108.677688602583, 124.24673033927291, 240.86944596606685, 249.15168070876018, 303.81863010684515, 289.1271173722728, 304.7018378677753, 234.7765959374997, 259.50608856055766, 253.9626153590327, 281.6884981677456, 283.82698955525706, 393.52204512580994, 352.8933124897665, 330.77347233416407, 426.58280556065546, 254.81736597021796, 305.6467896118001, 474.3492805939522], \"type\": \"data\", \"visible\": true}, \"name\": \"troglodytes\", \"type\": \"scatter\", \"uid\": \"fec5f6c0-3760-454a-9a96-f546d78b41f4\", \"x\": [2, 7, 12, 17, 22, 27, 32, 38, 43, 48, 53, 58, 63, 69, 74, 79, 84, 89, 94, 100], \"y\": [355.8, 1138.4, 1745.5, 2240.9, 2735.2, 2940.8, 3475.9, 3861.7, 4043.5, 4374.7, 4595.3, 4913.7, 5139.2, 5317.0, 5334.1, 5601.1, 5888.9, 5958.1, 6033.8, 6217.4]}, {\"error_y\": {\"array\": [165.22396920543943, 209.6698595411367, 307.2607361834571, 184.91892818205497, 279.8814749139357, 257.5357062622579, 286.1473221961023, 194.65407778929267, 256.0519673816235, 256.3197417289585, 235.6863169553973, 141.06934465006918, 97.53794133566691, 149.7082496056914, 275.80471352027325, 214.16117762096846, 267.6547216097635, 116.80963145220518, 239.41597691048108, 194.64644872177863], \"type\": \"data\", \"visible\": true}, \"name\": \"ellioti\", \"type\": \"scatter\", \"uid\": \"f0997487-1081-4eb0-9690-214a598f42ce\", \"x\": [2, 7, 12, 17, 22, 27, 32, 38, 43, 48, 53, 58, 63, 69, 74, 79, 84, 89, 94, 100], \"y\": [205.8, 452.5, 669.8, 788.7, 931.6, 879.6, 1036.9, 1157.3, 1226.7, 1156.7, 1138.4, 1226.2, 1140.5, 1129.8, 1241.4, 1292.3, 1327.5, 1146.9, 1331.3, 1279.6]}, {\"error_y\": {\"array\": [157.20143129119404, 280.07991716651156, 141.4496376806954, 261.9630699163529, 259.02588673721397, 174.74026439261218, 178.62723756471183, 279.54792075778346, 250.09480202515206, 185.19473534633755, 331.7354518287125, 296.88354619277914, 241.53817503657677, 187.7364109596218, 229.15889683798008, 249.26092754380898, 238.78693431592944, 251.7816712947946, 227.45023631555102, 214.60114165586353], \"type\": \"data\", \"visible\": true}, \"name\": \"verus\", \"type\": \"scatter\", \"uid\": \"a1e0c2e8-e79f-40e3-a9ac-9d3978349020\", \"x\": [2, 7, 12, 17, 22, 27, 32, 38, 43, 48, 53, 58, 63, 69, 74, 79, 84, 89, 94, 100], \"y\": [187.1, 618.8, 526.0, 793.5, 859.3, 770.2, 1016.9, 915.6, 1015.3, 1049.1, 1038.3, 1128.4, 1111.9, 1237.2, 1238.0, 1270.3, 1092.0, 1177.3, 1248.3, 1263.5]}],\n",
       "                        {\"height\": 950, \"title\": {\"text\": \"pop comparison\"}, \"width\": 950, \"xaxis\": {\"title\": {\"text\": \"Nsamp\"}}, \"yaxis\": {\"title\": {\"text\": \"# of private alleles\"}}},\n",
       "                        {\"showLink\": false, \"linkText\": \"Export to plot.ly\", \"plotlyServerURL\": \"https://plot.ly\", \"responsive\": true}\n",
       "                    ).then(function(){\n",
       "                            \n",
       "var gd = document.getElementById('5c97f417-8c57-44d7-9914-0830df9b145d');\n",
       "var x = new MutationObserver(function (mutations, observer) {{\n",
       "        var display = window.getComputedStyle(gd).display;\n",
       "        if (!display || display === 'none') {{\n",
       "            console.log([gd, 'removed!']);\n",
       "            Plotly.purge(gd);\n",
       "            observer.disconnect();\n",
       "        }}\n",
       "}});\n",
       "\n",
       "// Listen for the removal of the full notebook cells\n",
       "var notebookContainer = gd.closest('#notebook-container');\n",
       "if (notebookContainer) {{\n",
       "    x.observe(notebookContainer, {childList: true});\n",
       "}}\n",
       "\n",
       "// Listen for the clearing of the current output cell\n",
       "var outputEl = gd.closest('.output');\n",
       "if (outputEl) {{\n",
       "    x.observe(outputEl, {childList: true});\n",
       "}}\n",
       "\n",
       "                        })\n",
       "                };\n",
       "                });\n",
       "            </script>\n",
       "        </div>"
      ]
     },
     "metadata": {},
     "output_type": "display_data"
    }
   ],
   "source": [
    "fig= [go.Scatter(\n",
    "    x= samp_order,\n",
    "    y= [pops_dict[pop][x]['mean'] for x in samp_order],\n",
    "    error_y= dict(\n",
    "        array= [pops_dict[pop][x]['std'] for x in samp_order],\n",
    "        type= 'data',\n",
    "        #symmetric= True,\n",
    "        visible=True\n",
    "    ),\n",
    "    name= pop\n",
    ") for pop in model_dict.keys()]\n",
    "\n",
    "layout= go.Layout(\n",
    "    title= 'pop comparison',\n",
    "    xaxis= dict(\n",
    "        title= 'Nsamp'\n",
    "    ),\n",
    "    yaxis= dict(\n",
    "        title= '# of private alleles'\n",
    "    ),\n",
    "    height= 950,\n",
    "    width= 950\n",
    ")\n",
    "\n",
    "Figure= go.Figure(data=fig, layout= layout)\n",
    "iplot(Figure)"
   ]
  },
  {
   "cell_type": "code",
   "execution_count": null,
   "metadata": {},
   "outputs": [],
   "source": []
  }
 ],
 "metadata": {
  "kernelspec": {
   "display_name": "Python 3",
   "language": "python",
   "name": "python3"
  },
  "language_info": {
   "codemirror_mode": {
    "name": "ipython",
    "version": 3
   },
   "file_extension": ".py",
   "mimetype": "text/x-python",
   "name": "python",
   "nbconvert_exporter": "python",
   "pygments_lexer": "ipython3",
   "version": "3.7.3"
  }
 },
 "nbformat": 4,
 "nbformat_minor": 2
}
