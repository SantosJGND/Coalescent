{
 "cells": [
  {
   "cell_type": "code",
   "execution_count": 1,
   "metadata": {},
   "outputs": [
    {
     "data": {
      "text/html": [
       "        <script type=\"text/javascript\">\n",
       "        window.PlotlyConfig = {MathJaxConfig: 'local'};\n",
       "        if (window.MathJax) {MathJax.Hub.Config({SVG: {font: \"STIX-Web\"}});}\n",
       "        if (typeof require !== 'undefined') {\n",
       "        require.undef(\"plotly\");\n",
       "        requirejs.config({\n",
       "            paths: {\n",
       "                'plotly': ['https://cdn.plot.ly/plotly-latest.min']\n",
       "            }\n",
       "        });\n",
       "        require(['plotly'], function(Plotly) {\n",
       "            window._Plotly = Plotly;\n",
       "        });\n",
       "        }\n",
       "        </script>\n",
       "        "
      ]
     },
     "metadata": {},
     "output_type": "display_data"
    }
   ],
   "source": [
    "import scipy\n",
    "import numpy as np\n",
    "from sklearn.neighbors import KernelDensity\n",
    "from sklearn.decomposition import PCA\n",
    "from sklearn.model_selection import GridSearchCV\n",
    "from sklearn.cluster import estimate_bandwidth\n",
    "from sklearn.cluster import MeanShift, estimate_bandwidth\n",
    "\n",
    "import pandas as pd\n",
    "\n",
    "from scipy import stats\n",
    "from scipy.stats import beta\n",
    "from math import sin\n",
    "from random import randint\n",
    "\n",
    "import matplotlib.pyplot as plt\n",
    "import itertools as it\n",
    "\n",
    "import plotly\n",
    "import plotly.plotly as py\n",
    "import plotly.graph_objs as go\n",
    "from plotly.offline import download_plotlyjs, init_notebook_mode, plot, iplot\n",
    "\n",
    "from ipywidgets import interact, interactive, fixed, interact_manual\n",
    "import ipywidgets as widgets\n",
    "init_notebook_mode(connected=True)\n",
    "\n",
    "import collections\n",
    "\n",
    "def recursively_default_dict():\n",
    "        return collections.defaultdict(recursively_default_dict)\n",
    "\n"
   ]
  },
  {
   "cell_type": "markdown",
   "metadata": {},
   "source": [
    "## Trees and topologies.\n",
    "\n",
    "Notes from _Genes Ggenealogies, Variation and Evolution_, chapter II, of the same name [1]. \n",
    "\n",
    "For tree test, construction and comparison were taken directly from the original work by Gusfield D. (1991). Further work on gene network is personal.\n",
    "\n",
    "\n",
    "\n",
    "- Gusfield, D. (1991). Efficient algorithms for inferring evolutionary trees. Networks, 21(1), 19-28.\n",
    "\n",
    "- Hein, J., Schierup, M., & Wiuf, C. (2004). Gene genealogies, variation and evolution: a primer in coalescent theory. Oxford University Press, USA."
   ]
  },
  {
   "cell_type": "markdown",
   "metadata": {},
   "source": [
    "## Gusfield 1991\n",
    "\n",
    "### Algo I: test if hap matrix has phylo tree"
   ]
  },
  {
   "cell_type": "code",
   "execution_count": 2,
   "metadata": {},
   "outputs": [
    {
     "name": "stdout",
     "output_type": "stream",
     "text": [
      "T= has phyl tree; R= True\n",
      "T= does not have phyl tree; R= False\n"
     ]
    }
   ],
   "source": [
    "\n",
    "def Gus_phylo_test(hap_array):\n",
    "    \n",
    "    ## get cols\n",
    "    Tree= np.array(hap_array,dtype= str).T\n",
    "    \n",
    "    ### get binary of cols\n",
    "    binary_t= [''.join(x) for x in Tree]\n",
    "    binary_t= [int(x,2) for x in binary_t]\n",
    "    \n",
    "    ### get sort of col binary\n",
    "    bin_sort= np.argsort(binary_t)[::-1]\n",
    "    \n",
    "    ### remove duplicates\n",
    "    Tree_str= [''.join(x) for x in Tree]\n",
    "    \n",
    "    Mp= [Tree_str[x] for x in bin_sort if binary_t[x]]\n",
    "    \n",
    "    dup_try= [0,*[x for x in range(1,len(Mp)) if Mp[x] != Mp[x - 1]]]\n",
    "    \n",
    "    Mp= [Mp[x] for x in dup_try]\n",
    "    \n",
    "    ## get Mprime to original array col index for phyl construction later.\n",
    "    Mp_similarity= {\n",
    "        z: [x for x in range(len(Tree_str)) if Tree_str[x] == Mp[z]] for z in range(len(Mp))\n",
    "    }\n",
    "    \n",
    "    Mp= [list(x) for x in Mp]\n",
    "    \n",
    "    ### get haps back cols sorted, nulls removed.\n",
    "    Mp= np.array(Mp,dtype= int).T\n",
    "\n",
    "    ## get all positive cells.\n",
    "    valid_c= np.where(Mp == 1)\n",
    "    where_one= [tuple([valid_c[0][x],valid_c[1][x]]) for x in range(len(valid_c[0]))]\n",
    "    \n",
    "    ## cells by row\n",
    "    where_lib= [c[0] for c in where_one]\n",
    "    where_lib= {\n",
    "        z:[where_one[x] for x in range(len(where_lib)) if where_lib[x] == z] for z in list(set(where_lib))\n",
    "    }\n",
    "    \n",
    "    # cells in the same row but previous col for every cell\n",
    "    where_prime= [\n",
    "        [z[1] for z in where_lib[cel[0]] if z[1] < cel[1]] for cel in where_one\n",
    "    ]\n",
    "    \n",
    "    ## respective cols L(i,j)\n",
    "    where_prime= [[[-1],x][int(len(x) > 0)] for x in where_prime]\n",
    "    where_prime= [max(x) for x in where_prime]\n",
    "\n",
    "    ## cells by col\n",
    "    col_lib= [c[1] for c in where_one]\n",
    "    \n",
    "    ## largest smaller index by col\n",
    "    col_lib= {\n",
    "        z:[where_prime[x] for x in range(len(col_lib)) if col_lib[x] == z] for z in list(set(col_lib))\n",
    "    }\n",
    "    \n",
    "    ## check how many different previous to larger col indeces by cell\n",
    "    col_lib= {z:list(set(g)) for z,g in col_lib.items()}\n",
    "    \n",
    "    discovery= np.array([len(x) for x in col_lib.values()])\n",
    "    \n",
    "    ## According to Gusfield:\n",
    "    '''\n",
    "    - Check whether L(i,J) = Lo') for every cell (ij) E 0. If so. then M has\n",
    "    a phylogenetic tree: otherwise. M does not have one.\n",
    "    '''\n",
    "    \n",
    "    ## i'm interpreting this as: all previous to last col indeces must be same by col index. \n",
    "    \n",
    "    discovery= np.where(discovery > 1)[0]\n",
    "    discovery= len(discovery) == 0\n",
    "    return discovery, Mp, col_lib, Mp_similarity\n",
    "\n",
    "\n",
    "Gus_data= [\n",
    "    [1,1,0,0,0],\n",
    "    [0,0,1,0,0],\n",
    "    [1,1,0,0,1],\n",
    "    [0,0,1,1,0],\n",
    "    [0,1,0,0,0]\n",
    "]\n",
    "Gus_data= np.array(Gus_data)\n",
    "\n",
    "Gus_data_F= [\n",
    "    [1,1,0,0,0],\n",
    "    [0,0,1,0,1],\n",
    "    [1,1,0,0,1],\n",
    "    [0,0,1,1,0],\n",
    "    [0,1,0,0,1]\n",
    "]\n",
    "Gus_data_F= np.array(Gus_data_F)\n",
    "\n",
    "\n",
    "windows_test= [\n",
    "    Gus_data, Gus_data_F\n",
    "]\n",
    "\n",
    "Expct_title= ['has phyl tree', 'does not have phyl tree']\n",
    "\n",
    "for wind in range(len(windows_test)):\n",
    "    \n",
    "    phylo_bool, Mp, col_lib, Mp_similarity= Gus_phylo_test(windows_test[wind])\n",
    "    \n",
    "    phylo_bool\n",
    "    \n",
    "    print('T= {}; R= {}'.format(Expct_title[wind],phylo_bool))"
   ]
  },
  {
   "cell_type": "markdown",
   "metadata": {},
   "source": [
    "### Algo II: Construct phylogenetic tree\n"
   ]
  },
  {
   "cell_type": "code",
   "execution_count": 3,
   "metadata": {},
   "outputs": [],
   "source": [
    "def Gus_get_phylo(Mp,col_lib,Mp_similarity):\n",
    "    node_edges= recursively_default_dict()\n",
    "    nodes_all=[]\n",
    "    \n",
    "    node_edges[-1]= {}\n",
    "\n",
    "    root= {}\n",
    "\n",
    "    tree_nodes= recursively_default_dict()\n",
    "    \n",
    "    leaves= recursively_default_dict()\n",
    "\n",
    "    for col,L in col_lib.items():\n",
    "        \n",
    "        node_edges[L[0]][col]= Mp_similarity[col]\n",
    "    \n",
    "    \n",
    "    for ri in range(Mp.shape[0]):\n",
    "        row= Mp[ri]\n",
    "\n",
    "        ci= np.where(row == 1)[0]\n",
    "\n",
    "        if len(ci):\n",
    "            ci= max(ci)\n",
    "            edges= [tuple([z,ci]) for z in node_edges.keys() if ci in node_edges[z]]\n",
    "\n",
    "            for ed in edges:\n",
    "                leaves[ed[1]][ri]= 1\n",
    "\n",
    "        else:\n",
    "            leaves[-1][ri]= 1\n",
    "\n",
    "    leaves= {\n",
    "        z: list(leaves[z].keys()) for z in leaves\n",
    "    }\n",
    "\n",
    "    ## because this format might prove more useful later\n",
    "    edges= [[(x,z) for z in node_edges[x]] for x in node_edges.keys()]\n",
    "    edges= list(it.chain(*edges))\n",
    "\n",
    "    return node_edges, leaves, edges\n"
   ]
  },
  {
   "cell_type": "code",
   "execution_count": 4,
   "metadata": {},
   "outputs": [
    {
     "name": "stdout",
     "output_type": "stream",
     "text": [
      "has tree: True\n"
     ]
    }
   ],
   "source": [
    "### example from figure 2.10 (GGVE). \n",
    "\n",
    "dataT= [\n",
    "    [1,1,0,0],\n",
    "    [1,1,0,1],\n",
    "    [0,0,0,0],\n",
    "    [0,0,1,0],\n",
    "    [0,0,1,0]\n",
    "]\n",
    "\n",
    "dataT= np.array(dataT)\n",
    "data_phyl= dataT\n",
    "\n",
    "phylo_bool, Mp, col_lib, Mp_similarity= Gus_phylo_test(data_phyl)\n",
    "\n",
    "print('has tree: {}'.format(phylo_bool))\n",
    "\n",
    "Tree, leaves, edges= Gus_get_phylo(Mp,col_lib,Mp_similarity)"
   ]
  },
  {
   "cell_type": "code",
   "execution_count": 5,
   "metadata": {},
   "outputs": [
    {
     "data": {
      "application/vnd.plotly.v1+json": {
       "config": {
        "linkText": "Export to plot.ly",
        "plotlyServerURL": "https://plot.ly",
        "showLink": false
       },
       "data": [
        {
         "hoverinfo": "none",
         "line": {
          "color": "rgb(25,25,25)",
          "width": 1
         },
         "mode": "lines",
         "type": "scatter",
         "uid": "6570c1cc-9053-4e87-bd49-449d4f9b5e09",
         "x": [
          0.13352352932090236,
          -0.13348476263834333,
          null,
          0.13352352932090236,
          0.3788601117554279,
          null,
          -0.13348476263834333,
          -0.37889887843798725,
          null
         ],
         "y": [
          0.35244240338450167,
          -0.3522254731789833,
          null,
          0.35244240338450167,
          0.9997830697944817,
          null,
          -0.3522254731789833,
          -1,
          null
         ]
        },
        {
         "hoverinfo": "text",
         "marker": {
          "color": [
           "rgb(240,0,0)",
           "rgb(0,0,205)",
           "rgb(0,0,205)",
           "rgb(0,0,205)"
          ],
          "size": 28
         },
         "mode": "markers",
         "text": [
          "root: 0000",
          "1100",
          "1101",
          "0010\n0010"
         ],
         "type": "scatter",
         "uid": "3a8f4223-05d4-41c9-a54c-a0a568d4a181",
         "x": [
          0.13352352932090236,
          -0.13348476263834333,
          -0.37889887843798725,
          0.3788601117554279
         ],
         "y": [
          0.35244240338450167,
          -0.3522254731789833,
          -1,
          0.9997830697944817
         ]
        }
       ],
       "layout": {
        "autosize": false,
        "font": {
         "family": "Balto"
        },
        "height": 600,
        "hovermode": "closest",
        "margin": {
         "b": 85,
         "l": 40,
         "pad": 0,
         "r": 40,
         "t": 100
        },
        "plot_bgcolor": "#efecea",
        "showlegend": false,
        "title": {
         "text": "My Graph"
        },
        "width": 600,
        "xaxis": {
         "showgrid": false,
         "showline": false,
         "showticklabels": false,
         "title": {
          "text": ""
         },
         "zeroline": false
        },
        "yaxis": {
         "showgrid": false,
         "showline": false,
         "showticklabels": false,
         "title": {
          "text": ""
         },
         "zeroline": false
        }
       }
      },
      "text/html": [
       "<div>\n",
       "        \n",
       "        \n",
       "            <div id=\"91fd6ea0-3431-4384-85e5-7d31e0c74252\" class=\"plotly-graph-div\" style=\"height:600px; width:600px;\"></div>\n",
       "            <script type=\"text/javascript\">\n",
       "                require([\"plotly\"], function(Plotly) {\n",
       "                    window.PLOTLYENV=window.PLOTLYENV || {};\n",
       "                    window.PLOTLYENV.BASE_URL='https://plot.ly';\n",
       "                    \n",
       "                if (document.getElementById(\"91fd6ea0-3431-4384-85e5-7d31e0c74252\")) {\n",
       "                    Plotly.newPlot(\n",
       "                        '91fd6ea0-3431-4384-85e5-7d31e0c74252',\n",
       "                        [{\"hoverinfo\": \"none\", \"line\": {\"color\": \"rgb(25,25,25)\", \"width\": 1}, \"mode\": \"lines\", \"type\": \"scatter\", \"uid\": \"6570c1cc-9053-4e87-bd49-449d4f9b5e09\", \"x\": [0.13352352932090236, -0.13348476263834333, null, 0.13352352932090236, 0.3788601117554279, null, -0.13348476263834333, -0.37889887843798725, null], \"y\": [0.35244240338450167, -0.3522254731789833, null, 0.35244240338450167, 0.9997830697944817, null, -0.3522254731789833, -1.0, null]}, {\"hoverinfo\": \"text\", \"marker\": {\"color\": [\"rgb(240,0,0)\", \"rgb(0,0,205)\", \"rgb(0,0,205)\", \"rgb(0,0,205)\"], \"size\": 28}, \"mode\": \"markers\", \"text\": [\"root: 0000\", \"1100\", \"1101\", \"0010\\n0010\"], \"type\": \"scatter\", \"uid\": \"3a8f4223-05d4-41c9-a54c-a0a568d4a181\", \"x\": [0.13352352932090236, -0.13348476263834333, -0.37889887843798725, 0.3788601117554279], \"y\": [0.35244240338450167, -0.3522254731789833, -1.0, 0.9997830697944817]}],\n",
       "                        {\"autosize\": false, \"font\": {\"family\": \"Balto\"}, \"height\": 600, \"hovermode\": \"closest\", \"margin\": {\"b\": 85, \"l\": 40, \"pad\": 0, \"r\": 40, \"t\": 100}, \"plot_bgcolor\": \"#efecea\", \"showlegend\": false, \"title\": {\"text\": \"My Graph\"}, \"width\": 600, \"xaxis\": {\"showgrid\": false, \"showline\": false, \"showticklabels\": false, \"title\": {\"text\": \"\"}, \"zeroline\": false}, \"yaxis\": {\"showgrid\": false, \"showline\": false, \"showticklabels\": false, \"title\": {\"text\": \"\"}, \"zeroline\": false}},\n",
       "                        {\"showLink\": false, \"linkText\": \"Export to plot.ly\", \"plotlyServerURL\": \"https://plot.ly\", \"responsive\": true}\n",
       "                    ).then(function(){\n",
       "                            \n",
       "var gd = document.getElementById('91fd6ea0-3431-4384-85e5-7d31e0c74252');\n",
       "var x = new MutationObserver(function (mutations, observer) {{\n",
       "        var display = window.getComputedStyle(gd).display;\n",
       "        if (!display || display === 'none') {{\n",
       "            console.log([gd, 'removed!']);\n",
       "            Plotly.purge(gd);\n",
       "            observer.disconnect();\n",
       "        }}\n",
       "}});\n",
       "\n",
       "// Listen for the removal of the full notebook cells\n",
       "var notebookContainer = gd.closest('#notebook-container');\n",
       "if (notebookContainer) {{\n",
       "    x.observe(notebookContainer, {childList: true});\n",
       "}}\n",
       "\n",
       "// Listen for the clearing of the current output cell\n",
       "var outputEl = gd.closest('.output');\n",
       "if (outputEl) {{\n",
       "    x.observe(outputEl, {childList: true});\n",
       "}}\n",
       "\n",
       "                        })\n",
       "                };\n",
       "                });\n",
       "            </script>\n",
       "        </div>"
      ]
     },
     "metadata": {},
     "output_type": "display_data"
    }
   ],
   "source": [
    "### let's visualize the tree\n",
    "### plotting a network because igraph is not installed.\n",
    "\n",
    "from structure_tools.Coalesce_plots import plot_phyl_net\n",
    "\n",
    "node_list= list(range(-1,Mp.shape[1]))\n",
    "root= True\n",
    "nodes_as_seqs= True\n",
    "\n",
    "plot_phyl_net(data_phyl,leaves,node_list,edges,\n",
    "              nodes_as_seqs= nodes_as_seqs,root= root)\n"
   ]
  },
  {
   "cell_type": "markdown",
   "metadata": {},
   "source": [
    "### Algo III. Check for tree compatibility\n",
    "\n",
    "The third algorithm proposed by Gusfield (1991). Return combination of trees if possible, incompatible otherwise.\n",
    "\n",
    "Final algorithm entails several co-factors.\n",
    "\n",
    "- `get_obj_key`: generate dictionary of leaf nodes by sequence object (to get number and ID of objects on same leafs).\n",
    "\n",
    "- `get_back_graph`: returns backwards dictionary graph of given tree.\n",
    "\n",
    "- `get_nodeLeaves`: number of descendents for each node.\n",
    "\n",
    "- `get_subTree`: get all elements below a given node (recursive, perhaps unsuitable for large trees).\n",
    "\n",
    "\n",
    "- `tree_dat`: get and store the information produced by the above functions for two data sets.\n",
    "\n",
    "\n",
    "Finally, `get_updated_tree` takes the tree_dat dictionnary of tree intel and looks for nested branches as described in Gusfield (1991).\n"
   ]
  },
  {
   "cell_type": "code",
   "execution_count": 6,
   "metadata": {},
   "outputs": [],
   "source": [
    "\n",
    "def get_obj_key(leaves,data_phyl):\n",
    "    \n",
    "    obj_w= {\n",
    "        x: [z for z in leaves.keys() if x in leaves[z]][0] for x in range(data_phyl.shape[0])\n",
    "    }\n",
    "    \n",
    "    obj_w= {\n",
    "        x: tuple([obj_w[x], len(leaves[obj_w[x]])]) for x in obj_w.keys()\n",
    "    }\n",
    "    \n",
    "    return obj_w\n"
   ]
  },
  {
   "cell_type": "code",
   "execution_count": 7,
   "metadata": {},
   "outputs": [],
   "source": [
    "\n",
    "def get_back_graph(Tree):\n",
    "    \n",
    "    rev_dict= recursively_default_dict()\n",
    "    \n",
    "    for nd in Tree.keys():\n",
    "        for dt in Tree[nd]:\n",
    "            rev_dict[dt][nd]= 0\n",
    "    \n",
    "    rev_dict= {z: list(rev_dict[z].keys()) for z in rev_dict.keys()}\n",
    "    \n",
    "    return rev_dict\n"
   ]
  },
  {
   "cell_type": "code",
   "execution_count": 8,
   "metadata": {},
   "outputs": [],
   "source": [
    "\n",
    "def get_nodeLeaves(back_tree,leaves):\n",
    "\n",
    "    ## get leaf nodes\n",
    "    leaf_nds= [x for x in leaves.keys() if len(leaves[x])]\n",
    "    \n",
    "    ## root boolean\n",
    "    froot= False\n",
    "    \n",
    "    ## edg_store\n",
    "    Nstore= {\n",
    "        z: list(leaves[z]) for z in leaf_nds\n",
    "    }\n",
    "    \n",
    "    current_list= list(leaf_nds)\n",
    "    current_list= [x for x in current_list if x != -1]\n",
    "    \n",
    "    while not froot:\n",
    "            \n",
    "            if len(current_list) == 0:\n",
    "                froot= True\n",
    "                continue\n",
    "            \n",
    "            new_layer= []\n",
    "            \n",
    "            for nd in current_list:\n",
    "            \n",
    "                for inc in back_tree[nd]:\n",
    "                    if inc not in Nstore.keys():\n",
    "                        Nstore[inc]= Nstore[nd]\n",
    "                    else:\n",
    "                        Nstore[inc].extend(Nstore[nd])\n",
    "                    \n",
    "                    if inc >= 0:\n",
    "                        new_layer.append(inc)\n",
    "            \n",
    "            current_list= list(set(new_layer))\n",
    "    \n",
    "    return Nstore\n"
   ]
  },
  {
   "cell_type": "code",
   "execution_count": 9,
   "metadata": {},
   "outputs": [],
   "source": [
    "\n",
    "def get_subtree(Tree,node,subT= {}):\n",
    "    \n",
    "    if node not in Tree.keys():\n",
    "        return subT\n",
    "    \n",
    "    subT[node]= Tree[node]\n",
    "    \n",
    "    for nd in Tree[node].keys():\n",
    "        get_subtree(Tree,nd,subT)\n",
    "    \n",
    "    return subT\n"
   ]
  },
  {
   "cell_type": "code",
   "execution_count": 10,
   "metadata": {},
   "outputs": [],
   "source": [
    "\n",
    "def tree_dat(dataMlist):\n",
    "    dataM= {}\n",
    "    \n",
    "    for ds in range(len(dataMlist)):\n",
    "        \n",
    "        data_m= dataMlist[ds]\n",
    "        \n",
    "        phylo_bool, Mp, col_lib, Mp_similarity= Gus_phylo_test(data_m)\n",
    "\n",
    "        print('data set {} {} tree.'.format(ds,['does not have','has'][int(phylo_bool)]))\n",
    "        \n",
    "        if phylo_bool:\n",
    "\n",
    "            Tree, leaves, edges= Gus_get_phylo(Mp,col_lib,Mp_similarity)\n",
    "\n",
    "            total_nodes= list(set(list(it.chain(*edges))))\n",
    "            total_nodes= sorted(total_nodes)\n",
    "\n",
    "            ## get backward tree\n",
    "            back_tree= get_back_graph(Tree)\n",
    "\n",
    "            ## get node_weights\n",
    "            Nweights= get_nodeLeaves(back_tree,leaves)\n",
    "\n",
    "            ## leaf by object\n",
    "            obj_to_leaf= get_obj_key(leaves,data_m)\n",
    "            \n",
    "            dataM[ds]= {\n",
    "                'tree': Tree,\n",
    "                'Rtree': back_tree,\n",
    "                'edges': edges,\n",
    "                'leaves': leaves,\n",
    "                'obj': obj_to_leaf,\n",
    "                'desc': Nweights\n",
    "            }\n",
    "    \n",
    "    return dataM\n"
   ]
  },
  {
   "cell_type": "code",
   "execution_count": 11,
   "metadata": {},
   "outputs": [],
   "source": [
    "\n",
    "def get_updated_tree(TreeH,data_sets):\n",
    "    for j in range(len(TreeH)):\n",
    "        tj= j\n",
    "        tk= 1 - j\n",
    "\n",
    "        obj_list= list(TreeH[tj]['obj'].keys())\n",
    "\n",
    "        for obj in obj_list:\n",
    "\n",
    "            objn= TreeH[tj]['obj'][obj][0]\n",
    "            objn_nei= TreeH[tj]['desc'][objn]\n",
    "            objw= TreeH[tj]['obj'][obj][1]\n",
    "\n",
    "            if objw > TreeH[tk]['obj'][obj][1]:\n",
    "\n",
    "                ndk= TreeH[tk]['obj'][obj][0]\n",
    "                ldk= TreeH[tk]['desc'][ndk]\n",
    "\n",
    "                froot= False\n",
    "\n",
    "                while not froot:\n",
    "                    \n",
    "                    if ndk == -1 and ldk < objw:\n",
    "                        print('root of t.{} smaller than node {} in t.{}'.format(tk,obj,tj))\n",
    "                        \n",
    "                    if len(ldk) >= objw:\n",
    "\n",
    "                        compare= [x for x in objn_nei if x in ldk]\n",
    "\n",
    "                        if len(compare) < objw:\n",
    "                            print('trees {}, {} not compatible'.format(tj,tk))\n",
    "\n",
    "                            froot= True\n",
    "                            return {}\n",
    "\n",
    "                        else:\n",
    "                            new_branch= get_subtree(TreeH[tk]['tree'],ndk)\n",
    "                            froot= True\n",
    "\n",
    "                    if not froot:\n",
    "                        ndk= TreeH[tk]['Rtree'][ndk][0]\n",
    "                        ldk= TreeH[tk]['desc'][ndk]\n",
    "\n",
    "\n",
    "                extra_back= get_back_graph(new_branch)\n",
    "                \n",
    "                new_nodes= list(it.chain(*[list(new_branch[z].keys()) for z in new_branch.keys()]))\n",
    "                new_nodes= [*list(new_branch.keys()),*new_nodes]\n",
    "                new_nodes= sorted(new_nodes)\n",
    "\n",
    "                new_leaves= [x for x in TreeH[tk]['leaves'] if x in new_nodes]\n",
    "\n",
    "                new_leaves= {\n",
    "                    z: TreeH[tk]['leaves'][z] for z in new_leaves\n",
    "                }\n",
    "\n",
    "                new_edges= [x for x in TreeH[tk]['edges'] if x[0] in new_nodes]\n",
    "\n",
    "\n",
    "                \n",
    "                ### replace and update\n",
    "                if objn in TreeH[tj]['tree']:\n",
    "                    TreeH[tj]['tree'].pop(objn)\n",
    "\n",
    "                if objn in TreeH[tj]['leaves']:\n",
    "                    TreeH[tj]['leaves'].pop(objn)\n",
    "\n",
    "                TreeH[tj]['tree'].update(new_branch)\n",
    "                TreeH[tj]['Rtree'].update(extra_back)\n",
    "                TreeH[tj]['edges'].extend(new_edges)\n",
    "                TreeH[tj]['leaves'].update(new_leaves)\n",
    "\n",
    "                ###\n",
    "                Nweights= get_nodeLeaves(TreeH[tj]['Rtree'],TreeH[tj]['leaves'])\n",
    "\n",
    "                ## leaf by object\n",
    "                obj_to_leaf= get_obj_key(TreeH[tj]['leaves'],data_sets[tj])\n",
    "\n",
    "                ###\n",
    "                TreeH[tj]['obj']= obj_to_leaf\n",
    "                TreeH[tj]['desc']= Nweights\n",
    "        \n",
    "    return TreeH[tj]\n",
    "\n"
   ]
  },
  {
   "cell_type": "code",
   "execution_count": 12,
   "metadata": {},
   "outputs": [
    {
     "name": "stdout",
     "output_type": "stream",
     "text": [
      "data set 0 has tree.\n",
      "data set 1 has tree.\n"
     ]
    }
   ],
   "source": [
    "new_col= np.array([[0,0,0,1,0]]).T\n",
    "data_phyl_II= np.hstack((data_phyl,new_col))\n",
    "\n",
    "data_sets= [data_phyl, data_phyl_II]\n",
    "\n",
    "\n",
    "TreeDict= tree_dat(data_sets)\n"
   ]
  },
  {
   "cell_type": "code",
   "execution_count": 13,
   "metadata": {},
   "outputs": [
    {
     "data": {
      "text/plain": [
       "{'tree': defaultdict(<function __main__.recursively_default_dict()>,\n",
       "             {-1: {0: [0, 1], 2: [2]},\n",
       "              0: defaultdict(<function __main__.recursively_default_dict()>,\n",
       "                          {1: [3]}),\n",
       "              2: defaultdict(<function __main__.recursively_default_dict()>,\n",
       "                          {3: [4]})}),\n",
       " 'Rtree': {0: [-1], 2: [-1], 1: [0], 3: [2]},\n",
       " 'edges': [(-1, 0), (-1, 2), (0, 1), (2, 3)],\n",
       " 'leaves': {0: [0], 1: [1], -1: [2], 3: [3], 2: [4]},\n",
       " 'obj': {0: (0, 1), 1: (1, 1), 2: (-1, 1), 3: (3, 1), 4: (2, 1)},\n",
       " 'desc': {0: [0, 1], 1: [1], -1: [2, 0, 4, 3, 0, 1, 4, 3], 3: [3], 2: [4, 3]}}"
      ]
     },
     "execution_count": 13,
     "metadata": {},
     "output_type": "execute_result"
    }
   ],
   "source": [
    "### the test of compatibility is expressed in the output of the function\n",
    "### get_updated_tree: if empty then trees are incompatible. otherwise go.\n",
    "\n",
    "get_updated_tree(TreeDict,data_sets)"
   ]
  },
  {
   "cell_type": "markdown",
   "metadata": {},
   "source": [
    "## B. Coalescent tree\n",
    "\n",
    "It is interesting to note that if we take all the haplotypes that are generated by a coalescent model, from present data to the root, then this data set is unlikely to have a phylogenetic tree:"
   ]
  },
  {
   "cell_type": "code",
   "execution_count": 14,
   "metadata": {},
   "outputs": [],
   "source": [
    "from structure_tools.Coal_index import get_config\n",
    "\n",
    "### example from figure 2.10.\n",
    "\n",
    "dataT= [\n",
    "    [1,1,0,0],\n",
    "    [1,1,0,1],\n",
    "    [0,0,0,0],\n",
    "    [0,0,1,0],\n",
    "    [0,0,1,0]\n",
    "]\n",
    "\n",
    "dataT= np.array(dataT)\n",
    "\n",
    "nsamp= dataT.shape[0]\n",
    "\n",
    "config_dataw, hap_str= get_config(dataT,nsamp)\n",
    "\n",
    "hap_sol= list(hap_str.keys())\n",
    "hap_sun= np.array([np.array(list(x),dtype= int) for x in hap_sol])\n",
    "\n",
    "hap_size= [len(hap_str[x]) for x in hap_sol]\n",
    "hap_size= {z:[x for x in range(len(hap_size)) if hap_size[x] == z] for z in list(set(hap_size))}\n",
    "\n",
    "\n",
    "\n",
    "passing= hap_size.keys()\n",
    "pack= list(it.chain(*[hap_size[x] for x in passing]))\n",
    "passport= list(it.chain(*[[x]*len(hap_size[x]) for x in passing]))\n",
    "\n",
    "pack= [[pack[x],passport[x]] for x in range(len(pack))]\n",
    "pack= sorted(pack)\n",
    "pack= np.array(pack)\n",
    "\n",
    "Dict_mat= {0: \n",
    "           {\n",
    "               -2: hap_sun,\n",
    "               -1: [0] * hap_sun.shape[0],\n",
    "               0: pack\n",
    "              }\n",
    "          }\n",
    "\n",
    "point_up= recursively_default_dict()\n"
   ]
  },
  {
   "cell_type": "markdown",
   "metadata": {},
   "source": [
    "### Indexing layers\n"
   ]
  },
  {
   "cell_type": "code",
   "execution_count": 15,
   "metadata": {},
   "outputs": [
    {
     "name": "stdout",
     "output_type": "stream",
     "text": [
      "layer: 0; len: 2\n",
      "layer: 1; len: 2\n",
      "layer: 2; len: 3\n",
      "layer: 3; len: 5\n",
      "layer: 4; len: 5\n",
      "layer: 5; len: 5\n",
      "layer: 6; len: 4\n",
      "layer: 7; len: 1\n",
      "layer: 8; len: 1\n",
      "time elapsed: 0.02 s\n"
     ]
    }
   ],
   "source": [
    "from structure_tools.Coal_index import Inf_sites\n",
    "\n",
    "root_lib, point_up = Inf_sites(Dict_mat,point_up,layer_range= 10,sub_sample= 0,poppit= False)\n"
   ]
  },
  {
   "cell_type": "code",
   "execution_count": 16,
   "metadata": {},
   "outputs": [
    {
     "name": "stdout",
     "output_type": "stream",
     "text": [
      "has tree: False\n"
     ]
    }
   ],
   "source": [
    "sink= max(root_lib.keys())\n",
    "\n",
    "if 0 not in root_lib[sink].keys():\n",
    "    while 0 not in root_lib[sink].keys():\n",
    "        sink -= 1\n",
    "\n",
    "data_phyl= root_lib[sink][-2]\n",
    "phylo_bool, Mp, col_lib, Mp_similarity= Gus_phylo_test(data_phyl)\n",
    "\n",
    "print('has tree: {}'.format(phylo_bool))"
   ]
  },
  {
   "cell_type": "code",
   "execution_count": 17,
   "metadata": {},
   "outputs": [
    {
     "data": {
      "application/vnd.plotly.v1+json": {
       "config": {
        "linkText": "Export to plot.ly",
        "plotlyServerURL": "https://plot.ly",
        "showLink": false
       },
       "data": [
        {
         "hoverinfo": "none",
         "line": {
          "color": "rgb(25,25,25)",
          "width": 1
         },
         "mode": "lines",
         "type": "scatter",
         "uid": "0800b3c9-6440-42f9-8f7c-b56980b3a893",
         "x": [
          0.046730838388418544,
          -0.00040848504834251336,
          null,
          0.046730838388418544,
          0.08868382935401413,
          null,
          -0.00040848504834251336,
          -0.04732093577440572,
          null,
          -0.04732093577440572,
          -0.08768524691968435,
          null
         ],
         "y": [
          -0.5314766284285468,
          -0.0010247164499716365,
          null,
          -0.5314766284285468,
          -1,
          null,
          -0.0010247164499716365,
          0.533395556930234,
          null,
          0.533395556930234,
          0.9991057879482845,
          null
         ]
        },
        {
         "hoverinfo": "text",
         "marker": {
          "color": [
           "rgb(240,0,0)",
           "rgb(0,0,205)",
           "rgb(0,0,205)",
           "rgb(0,0,205)",
           "rgb(0,0,205)"
          ],
          "size": 28
         },
         "mode": "markers",
         "text": [
          "root: 0000",
          "0100",
          "1100\n1000",
          "1101",
          "0010"
         ],
         "type": "scatter",
         "uid": "78f5e37c-c44c-4225-a2a4-bbd26df7a78e",
         "x": [
          0.046730838388418544,
          -0.00040848504834251336,
          -0.04732093577440572,
          -0.08768524691968435,
          0.08868382935401413
         ],
         "y": [
          -0.5314766284285468,
          -0.0010247164499716365,
          0.533395556930234,
          0.9991057879482845,
          -1
         ]
        }
       ],
       "layout": {
        "autosize": false,
        "font": {
         "family": "Balto"
        },
        "height": 600,
        "hovermode": "closest",
        "margin": {
         "b": 85,
         "l": 40,
         "pad": 0,
         "r": 40,
         "t": 100
        },
        "plot_bgcolor": "#efecea",
        "showlegend": false,
        "title": {
         "text": "My Graph"
        },
        "width": 600,
        "xaxis": {
         "showgrid": false,
         "showline": false,
         "showticklabels": false,
         "title": {
          "text": ""
         },
         "zeroline": false
        },
        "yaxis": {
         "showgrid": false,
         "showline": false,
         "showticklabels": false,
         "title": {
          "text": ""
         },
         "zeroline": false
        }
       }
      },
      "text/html": [
       "<div>\n",
       "        \n",
       "        \n",
       "            <div id=\"f296f9e8-a8e6-4db2-b859-3f5e7f25a902\" class=\"plotly-graph-div\" style=\"height:600px; width:600px;\"></div>\n",
       "            <script type=\"text/javascript\">\n",
       "                require([\"plotly\"], function(Plotly) {\n",
       "                    window.PLOTLYENV=window.PLOTLYENV || {};\n",
       "                    window.PLOTLYENV.BASE_URL='https://plot.ly';\n",
       "                    \n",
       "                if (document.getElementById(\"f296f9e8-a8e6-4db2-b859-3f5e7f25a902\")) {\n",
       "                    Plotly.newPlot(\n",
       "                        'f296f9e8-a8e6-4db2-b859-3f5e7f25a902',\n",
       "                        [{\"hoverinfo\": \"none\", \"line\": {\"color\": \"rgb(25,25,25)\", \"width\": 1}, \"mode\": \"lines\", \"type\": \"scatter\", \"uid\": \"0800b3c9-6440-42f9-8f7c-b56980b3a893\", \"x\": [0.046730838388418544, -0.00040848504834251336, null, 0.046730838388418544, 0.08868382935401413, null, -0.00040848504834251336, -0.04732093577440572, null, -0.04732093577440572, -0.08768524691968435, null], \"y\": [-0.5314766284285468, -0.0010247164499716365, null, -0.5314766284285468, -1.0, null, -0.0010247164499716365, 0.533395556930234, null, 0.533395556930234, 0.9991057879482845, null]}, {\"hoverinfo\": \"text\", \"marker\": {\"color\": [\"rgb(240,0,0)\", \"rgb(0,0,205)\", \"rgb(0,0,205)\", \"rgb(0,0,205)\", \"rgb(0,0,205)\"], \"size\": 28}, \"mode\": \"markers\", \"text\": [\"root: 0000\", \"0100\", \"1100\\n1000\", \"1101\", \"0010\"], \"type\": \"scatter\", \"uid\": \"78f5e37c-c44c-4225-a2a4-bbd26df7a78e\", \"x\": [0.046730838388418544, -0.00040848504834251336, -0.04732093577440572, -0.08768524691968435, 0.08868382935401413], \"y\": [-0.5314766284285468, -0.0010247164499716365, 0.533395556930234, 0.9991057879482845, -1.0]}],\n",
       "                        {\"autosize\": false, \"font\": {\"family\": \"Balto\"}, \"height\": 600, \"hovermode\": \"closest\", \"margin\": {\"b\": 85, \"l\": 40, \"pad\": 0, \"r\": 40, \"t\": 100}, \"plot_bgcolor\": \"#efecea\", \"showlegend\": false, \"title\": {\"text\": \"My Graph\"}, \"width\": 600, \"xaxis\": {\"showgrid\": false, \"showline\": false, \"showticklabels\": false, \"title\": {\"text\": \"\"}, \"zeroline\": false}, \"yaxis\": {\"showgrid\": false, \"showline\": false, \"showticklabels\": false, \"title\": {\"text\": \"\"}, \"zeroline\": false}},\n",
       "                        {\"showLink\": false, \"linkText\": \"Export to plot.ly\", \"plotlyServerURL\": \"https://plot.ly\", \"responsive\": true}\n",
       "                    ).then(function(){\n",
       "                            \n",
       "var gd = document.getElementById('f296f9e8-a8e6-4db2-b859-3f5e7f25a902');\n",
       "var x = new MutationObserver(function (mutations, observer) {{\n",
       "        var display = window.getComputedStyle(gd).display;\n",
       "        if (!display || display === 'none') {{\n",
       "            console.log([gd, 'removed!']);\n",
       "            Plotly.purge(gd);\n",
       "            observer.disconnect();\n",
       "        }}\n",
       "}});\n",
       "\n",
       "// Listen for the removal of the full notebook cells\n",
       "var notebookContainer = gd.closest('#notebook-container');\n",
       "if (notebookContainer) {{\n",
       "    x.observe(notebookContainer, {childList: true});\n",
       "}}\n",
       "\n",
       "// Listen for the clearing of the current output cell\n",
       "var outputEl = gd.closest('.output');\n",
       "if (outputEl) {{\n",
       "    x.observe(outputEl, {childList: true});\n",
       "}}\n",
       "\n",
       "                        })\n",
       "                };\n",
       "                });\n",
       "            </script>\n",
       "        </div>"
      ]
     },
     "metadata": {},
     "output_type": "display_data"
    }
   ],
   "source": [
    "Tree, leaves, edges= Gus_get_phylo(Mp,col_lib,Mp_similarity)\n",
    "\n",
    "node_list= list(range(-1,Mp.shape[1]))\n",
    "root= True\n",
    "nodes_as_seqs= True\n",
    "\n",
    "plot_phyl_net(data_phyl,leaves,node_list,edges,\n",
    "              nodes_as_seqs= nodes_as_seqs,root= root)"
   ]
  },
  {
   "cell_type": "markdown",
   "metadata": {},
   "source": [
    "This is because the coalescent will explore parallel paths to an ancestry, so that not all haplotypes \n",
    "across paths are compatible with an infinite sites model. While the resulting network looks the same, by browsing over the nodes you will notice that one of the nodes holds two different sequences, one of which should in fact have been a new node and edge linking to the dual node. \n",
    "\n",
    "But there is an interest in reproducing the graph of all possible haplotypes. Especially if we have access to all possible ancestors. For example, if we wish to link up different networks, then we might want to hold on to hypothetical ancestral haplotypes to anchor new branches. The uncertainty might also be solved if one of the ambiguous haplotypes shows up in another data set. \n",
    "\n",
    "The next script creates the graph from root to modern day leaves."
   ]
  },
  {
   "cell_type": "code",
   "execution_count": 18,
   "metadata": {},
   "outputs": [],
   "source": [
    "from sklearn.metrics import pairwise_distances\n",
    "\n",
    "def tree_descent_net(root_lib,point_up,sink,init= [0]):\n",
    "    \n",
    "    for layer in list(range(1,sink + 1))[::-1]:\n",
    "        \n",
    "        where_to= point_up[layer - 1]\n",
    "        \n",
    "        if layer == sink:\n",
    "            starters= init\n",
    "        else:\n",
    "            starters= list(set(where_to[:,1]))\n",
    "\n",
    "        point_up_house= where_to[where_to[:,3] == 0]\n",
    "\n",
    "        if layer == sink:\n",
    "            \n",
    "            AC= root_lib[sink][0][0]\n",
    "            \n",
    "            leaves= {\n",
    "                -1: root_lib[sink][-2][AC[0]]\n",
    "            }\n",
    "            \n",
    "            nodes= {\n",
    "                -1: []\n",
    "            }\n",
    "            \n",
    "            node_code= {\n",
    "                AC[0]: -1\n",
    "            }\n",
    "            \n",
    "            edges= []\n",
    "        \n",
    "        \n",
    "        for row in range(point_up_house.shape[0]):\n",
    "            line= point_up_house[row,:]\n",
    "            \n",
    "            who_app= [x for x in root_lib[layer - 1][line[0]][:,0] if x not in root_lib[layer][line[1]][:,0]][0]\n",
    "            \n",
    "            if who_app not in node_code.keys():\n",
    "                node_code[who_app]= len(node_code) - 1\n",
    "                \n",
    "                nodes[node_code[who_app]]= []\n",
    "                \n",
    "                leaves[node_code[who_app]]= root_lib[layer][-2][who_app]\n",
    "            \n",
    "            mut= point_up_house[row,4]\n",
    "            \n",
    "            who_seq= list(root_lib[layer - 1][-2][who_app])\n",
    "            \n",
    "            who_seq[mut]= 0\n",
    "            \n",
    "            dists= pairwise_distances(np.array(who_seq).reshape(1,-1), root_lib[layer][-2],\n",
    "                                                metric='manhattan')[0]\n",
    "            \n",
    "            which= np.where(dists==0)[0]\n",
    "            \n",
    "            for poss in which:\n",
    "                \n",
    "                if poss != who_app:\n",
    "                    \n",
    "                    if poss not in node_code.keys():\n",
    "\n",
    "                        node_code[poss]= len(node_code) - 1\n",
    "\n",
    "                        nodes[node_code[poss]]= []\n",
    "\n",
    "                        leaves[node_code[poss]]= root_lib[layer][-2][poss]\n",
    "                    \n",
    "                    code_dn= node_code[poss]\n",
    "\n",
    "                    new_edge= (code_dn,node_code[who_app])\n",
    "                    \n",
    "                    if new_edge not in edges:\n",
    "                        edges.append(new_edge)\n",
    "\n",
    "                        nodes[new_edge[0]].append(new_edge[1])\n",
    "\n",
    "    return nodes, edges, leaves, node_code\n",
    "\n",
    "\n",
    "\n"
   ]
  },
  {
   "cell_type": "code",
   "execution_count": 19,
   "metadata": {},
   "outputs": [
    {
     "name": "stdout",
     "output_type": "stream",
     "text": [
      "[0, 3, 4, 5]\n"
     ]
    },
    {
     "data": {
      "application/vnd.plotly.v1+json": {
       "config": {
        "linkText": "Export to plot.ly",
        "plotlyServerURL": "https://plot.ly",
        "showLink": false
       },
       "data": [
        {
         "hoverinfo": "none",
         "line": {
          "color": "rgb(25,25,25)",
          "width": 1
         },
         "mode": "lines",
         "type": "scatter",
         "uid": "057eb2ab-5210-4be3-9dcf-3fd9d6bbf469",
         "x": [
          -0.4602396710265194,
          0.09623798467576777,
          null,
          -0.4602396710265194,
          -0.09763630499985076,
          null,
          -0.4602396710265194,
          -0.9990599193393357,
          null,
          0.09623798467576777,
          0.460697910689938,
          null,
          -0.09763630499985076,
          0.460697910689938,
          null,
          0.460697910689938,
          1,
          null
         ],
         "y": [
          -0.1808967664762253,
          -0.2468868670638754,
          null,
          -0.1808967664762253,
          0.24578409796494455,
          null,
          -0.1808967664762253,
          -0.3915161308526869,
          null,
          -0.2468868670638754,
          0.18079330762944484,
          null,
          0.24578409796494455,
          0.18079330762944484,
          null,
          0.18079330762944484,
          0.3927223587983985,
          null
         ]
        },
        {
         "hoverinfo": "text",
         "marker": {
          "color": [
           "rgb(240,0,0)",
           "rgb(186,85,211)",
           "rgb(186,85,211)",
           "rgb(0,0,205)",
           "rgb(0,0,205)",
           "rgb(0,0,205)"
          ],
          "size": 28
         },
         "mode": "markers",
         "text": [
          "root: 0000",
          "0100",
          "1000",
          "0010",
          "1100",
          "1101"
         ],
         "type": "scatter",
         "uid": "7bb20cf2-7416-4491-9269-9b742e09c9da",
         "x": [
          -0.4602396710265194,
          0.09623798467576777,
          -0.09763630499985076,
          -0.9990599193393357,
          0.460697910689938,
          1
         ],
         "y": [
          -0.1808967664762253,
          -0.2468868670638754,
          0.24578409796494455,
          -0.3915161308526869,
          0.18079330762944484,
          0.3927223587983985
         ]
        }
       ],
       "layout": {
        "autosize": false,
        "font": {
         "family": "Balto"
        },
        "height": 600,
        "hovermode": "closest",
        "margin": {
         "b": 85,
         "l": 40,
         "pad": 0,
         "r": 40,
         "t": 100
        },
        "plot_bgcolor": "#efecea",
        "showlegend": false,
        "title": {
         "text": "My Graph"
        },
        "width": 600,
        "xaxis": {
         "showgrid": false,
         "showline": false,
         "showticklabels": false,
         "title": {
          "text": ""
         },
         "zeroline": false
        },
        "yaxis": {
         "showgrid": false,
         "showline": false,
         "showticklabels": false,
         "title": {
          "text": ""
         },
         "zeroline": false
        }
       }
      },
      "text/html": [
       "<div>\n",
       "        \n",
       "        \n",
       "            <div id=\"317a1ddf-e73a-49a1-8c8e-e382075c89cb\" class=\"plotly-graph-div\" style=\"height:600px; width:600px;\"></div>\n",
       "            <script type=\"text/javascript\">\n",
       "                require([\"plotly\"], function(Plotly) {\n",
       "                    window.PLOTLYENV=window.PLOTLYENV || {};\n",
       "                    window.PLOTLYENV.BASE_URL='https://plot.ly';\n",
       "                    \n",
       "                if (document.getElementById(\"317a1ddf-e73a-49a1-8c8e-e382075c89cb\")) {\n",
       "                    Plotly.newPlot(\n",
       "                        '317a1ddf-e73a-49a1-8c8e-e382075c89cb',\n",
       "                        [{\"hoverinfo\": \"none\", \"line\": {\"color\": \"rgb(25,25,25)\", \"width\": 1}, \"mode\": \"lines\", \"type\": \"scatter\", \"uid\": \"057eb2ab-5210-4be3-9dcf-3fd9d6bbf469\", \"x\": [-0.4602396710265194, 0.09623798467576777, null, -0.4602396710265194, -0.09763630499985076, null, -0.4602396710265194, -0.9990599193393357, null, 0.09623798467576777, 0.460697910689938, null, -0.09763630499985076, 0.460697910689938, null, 0.460697910689938, 1.0, null], \"y\": [-0.1808967664762253, -0.2468868670638754, null, -0.1808967664762253, 0.24578409796494455, null, -0.1808967664762253, -0.3915161308526869, null, -0.2468868670638754, 0.18079330762944484, null, 0.24578409796494455, 0.18079330762944484, null, 0.18079330762944484, 0.3927223587983985, null]}, {\"hoverinfo\": \"text\", \"marker\": {\"color\": [\"rgb(240,0,0)\", \"rgb(186,85,211)\", \"rgb(186,85,211)\", \"rgb(0,0,205)\", \"rgb(0,0,205)\", \"rgb(0,0,205)\"], \"size\": 28}, \"mode\": \"markers\", \"text\": [\"root: 0000\", \"0100\", \"1000\", \"0010\", \"1100\", \"1101\"], \"type\": \"scatter\", \"uid\": \"7bb20cf2-7416-4491-9269-9b742e09c9da\", \"x\": [-0.4602396710265194, 0.09623798467576777, -0.09763630499985076, -0.9990599193393357, 0.460697910689938, 1.0], \"y\": [-0.1808967664762253, -0.2468868670638754, 0.24578409796494455, -0.3915161308526869, 0.18079330762944484, 0.3927223587983985]}],\n",
       "                        {\"autosize\": false, \"font\": {\"family\": \"Balto\"}, \"height\": 600, \"hovermode\": \"closest\", \"margin\": {\"b\": 85, \"l\": 40, \"pad\": 0, \"r\": 40, \"t\": 100}, \"plot_bgcolor\": \"#efecea\", \"showlegend\": false, \"title\": {\"text\": \"My Graph\"}, \"width\": 600, \"xaxis\": {\"showgrid\": false, \"showline\": false, \"showticklabels\": false, \"title\": {\"text\": \"\"}, \"zeroline\": false}, \"yaxis\": {\"showgrid\": false, \"showline\": false, \"showticklabels\": false, \"title\": {\"text\": \"\"}, \"zeroline\": false}},\n",
       "                        {\"showLink\": false, \"linkText\": \"Export to plot.ly\", \"plotlyServerURL\": \"https://plot.ly\", \"responsive\": true}\n",
       "                    ).then(function(){\n",
       "                            \n",
       "var gd = document.getElementById('317a1ddf-e73a-49a1-8c8e-e382075c89cb');\n",
       "var x = new MutationObserver(function (mutations, observer) {{\n",
       "        var display = window.getComputedStyle(gd).display;\n",
       "        if (!display || display === 'none') {{\n",
       "            console.log([gd, 'removed!']);\n",
       "            Plotly.purge(gd);\n",
       "            observer.disconnect();\n",
       "        }}\n",
       "}});\n",
       "\n",
       "// Listen for the removal of the full notebook cells\n",
       "var notebookContainer = gd.closest('#notebook-container');\n",
       "if (notebookContainer) {{\n",
       "    x.observe(notebookContainer, {childList: true});\n",
       "}}\n",
       "\n",
       "// Listen for the clearing of the current output cell\n",
       "var outputEl = gd.closest('.output');\n",
       "if (outputEl) {{\n",
       "    x.observe(outputEl, {childList: true});\n",
       "}}\n",
       "\n",
       "                        })\n",
       "                };\n",
       "                });\n",
       "            </script>\n",
       "        </div>"
      ]
     },
     "metadata": {},
     "output_type": "display_data"
    }
   ],
   "source": [
    "##\n",
    "\n",
    "nodes, edges, leaves, node_code= tree_descent_net(root_lib,point_up,sink,init= [0])\n",
    "\n",
    "from structure_tools.Coalesce_plots import get_ori_graph\n",
    "\n",
    "present= True\n",
    "nodes_as_seqs= True\n",
    "root= True\n",
    "\n",
    "\n",
    "\n",
    "get_ori_graph(root_lib,edges,node_list,leaves,present= present,\n",
    "                                            nodes_as_seqs= nodes_as_seqs,\n",
    "                                            root= root)\n"
   ]
  },
  {
   "cell_type": "markdown",
   "metadata": {},
   "source": [
    "color code: \n",
    "    - blue= present day haplotypes.\n",
    "    - purple= haplotypes present only as precendents.\n",
    "    - red= root.\n",
    "\n",
    "### Conclusions\n",
    "\n",
    "- Every group of ambiguous nodes is a directed graph in which the the sink is always a known hap. \n",
    "- Every path from root to sink has the same length = the number of differences between root and sink.\n",
    "- Breadth first search returns nodes grouped by dist from source/sink in layers.\n",
    "\n",
    "The final observation leads to the following:\n",
    "\n",
    "                    - Number of nodes per layer: l combinations in D.\n",
    "                    - total number of ambiguous nodes from source to sink: sum of (i comb. in D) for i in [1 through D-1].\n",
    "\n",
    "For `D` = number of differences between source and sink haps, and `l`= layer number (0 at sink).\n",
    "\n",
    "The preceding might only be true of networks constructed from coalescent reconstructions of data respecting infinite sites assumption. "
   ]
  },
  {
   "cell_type": "code",
   "execution_count": null,
   "metadata": {},
   "outputs": [],
   "source": []
  }
 ],
 "metadata": {
  "kernelspec": {
   "display_name": "Python 3",
   "language": "python",
   "name": "python3"
  },
  "language_info": {
   "codemirror_mode": {
    "name": "ipython",
    "version": 3
   },
   "file_extension": ".py",
   "mimetype": "text/x-python",
   "name": "python",
   "nbconvert_exporter": "python",
   "pygments_lexer": "ipython3",
   "version": "3.7.3"
  }
 },
 "nbformat": 4,
 "nbformat_minor": 2
}
