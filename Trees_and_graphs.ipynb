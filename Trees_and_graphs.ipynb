{
 "cells": [
  {
   "cell_type": "code",
   "execution_count": 1,
   "metadata": {},
   "outputs": [
    {
     "data": {
      "text/html": [
       "<script type=\"text/javascript\">window.PlotlyConfig = {MathJaxConfig: 'local'};</script><script type=\"text/javascript\">if (window.MathJax) {MathJax.Hub.Config({SVG: {font: \"STIX-Web\"}});}</script><script>requirejs.config({paths: { 'plotly': ['https://cdn.plot.ly/plotly-latest.min']},});if(!window._Plotly) {require(['plotly'],function(plotly) {window._Plotly=plotly;});}</script>"
      ],
      "text/vnd.plotly.v1+html": [
       "<script type=\"text/javascript\">window.PlotlyConfig = {MathJaxConfig: 'local'};</script><script type=\"text/javascript\">if (window.MathJax) {MathJax.Hub.Config({SVG: {font: \"STIX-Web\"}});}</script><script>requirejs.config({paths: { 'plotly': ['https://cdn.plot.ly/plotly-latest.min']},});if(!window._Plotly) {require(['plotly'],function(plotly) {window._Plotly=plotly;});}</script>"
      ]
     },
     "metadata": {},
     "output_type": "display_data"
    }
   ],
   "source": [
    "import scipy\n",
    "import numpy as np\n",
    "from sklearn.neighbors import KernelDensity\n",
    "from sklearn.decomposition import PCA\n",
    "from sklearn.model_selection import GridSearchCV\n",
    "from sklearn.cluster import estimate_bandwidth\n",
    "from sklearn.cluster import MeanShift, estimate_bandwidth\n",
    "\n",
    "import pandas as pd\n",
    "\n",
    "from scipy import stats\n",
    "from scipy.stats import beta\n",
    "from math import sin\n",
    "from random import randint\n",
    "\n",
    "import matplotlib.pyplot as plt\n",
    "import itertools as it\n",
    "\n",
    "import plotly\n",
    "import plotly.plotly as py\n",
    "import plotly.graph_objs as go\n",
    "from plotly.offline import download_plotlyjs, init_notebook_mode, plot, iplot\n",
    "\n",
    "from ipywidgets import interact, interactive, fixed, interact_manual\n",
    "import ipywidgets as widgets\n",
    "init_notebook_mode(connected=True)\n",
    "\n",
    "import collections\n",
    "\n",
    "def recursively_default_dict():\n",
    "        return collections.defaultdict(recursively_default_dict)\n",
    "\n"
   ]
  },
  {
   "cell_type": "code",
   "execution_count": 2,
   "metadata": {},
   "outputs": [],
   "source": [
    "from structure_tools.Coal_index import get_config\n",
    "###Generate data from config\n",
    "\n",
    "dataT= [\n",
    "    [1,0,0,0],\n",
    "    [0,0,1,0],\n",
    "    [0,0,1,0]\n",
    "]\n",
    "\n",
    "### example from figure 2.10.\n",
    "\n",
    "dataT= [\n",
    "    [1,1,0,0],\n",
    "    [1,1,0,1],\n",
    "    [0,0,0,0],\n",
    "    [0,0,1,0],\n",
    "    [0,0,1,0]\n",
    "]\n",
    "\n",
    "dataT= np.array(dataT)\n",
    "\n",
    "nsamp= dataT.shape[0]\n",
    "\n",
    "config_dataw, hap_str= get_config(dataT,nsamp)\n",
    "\n",
    "hap_sol= list(hap_str.keys())\n",
    "hap_sun= np.array([np.array(list(x),dtype= int) for x in hap_sol])\n",
    "\n",
    "hap_size= [len(hap_str[x]) for x in hap_sol]\n",
    "hap_size= {z:[x for x in range(len(hap_size)) if hap_size[x] == z] for z in list(set(hap_size))}\n",
    "\n",
    "\n",
    "\n",
    "passing= hap_size.keys()\n",
    "pack= list(it.chain(*[hap_size[x] for x in passing]))\n",
    "passport= list(it.chain(*[[x]*len(hap_size[x]) for x in passing]))\n",
    "\n",
    "pack= [[pack[x],passport[x]] for x in range(len(pack))]\n",
    "pack= sorted(pack)\n",
    "pack= np.array(pack)\n",
    "\n",
    "Dict_mat= {0: \n",
    "           {\n",
    "               -2: hap_sun,\n",
    "               -1: [0] * hap_sun.shape[0],\n",
    "               0: pack\n",
    "              }\n",
    "          }\n",
    "\n",
    "point_up= recursively_default_dict()\n"
   ]
  },
  {
   "cell_type": "markdown",
   "metadata": {},
   "source": [
    "### Indexing layers"
   ]
  },
  {
   "cell_type": "code",
   "execution_count": 3,
   "metadata": {},
   "outputs": [
    {
     "name": "stdout",
     "output_type": "stream",
     "text": [
      "layer: 0; len: 2\n",
      "layer: 1; len: 2\n",
      "layer: 2; len: 3\n",
      "layer: 3; len: 5\n",
      "layer: 4; len: 5\n",
      "layer: 5; len: 5\n",
      "layer: 6; len: 4\n",
      "layer: 7; len: 1\n",
      "layer: 8; len: 1\n",
      "time elapsed: 0.123 s\n"
     ]
    }
   ],
   "source": [
    "from structure_tools.Coal_index import Inf_sites\n",
    "\n",
    "root_lib, point_up = Inf_sites(Dict_mat,point_up,layer_range= 10,sub_sample= 0,poppit= False)\n"
   ]
  },
  {
   "cell_type": "markdown",
   "metadata": {},
   "source": [
    "## Gusfield 1991\n",
    "\n",
    "### Algo I: test if hap matrix has phylo tree"
   ]
  },
  {
   "cell_type": "code",
   "execution_count": 4,
   "metadata": {},
   "outputs": [
    {
     "name": "stdout",
     "output_type": "stream",
     "text": [
      "T= has phyl tree; R= True\n",
      "T= does not have phyl tree; R= False\n"
     ]
    }
   ],
   "source": [
    "def Gus_phylo_test(hap_array):\n",
    "    \n",
    "    ## get cols\n",
    "    Tree= np.array(hap_array,dtype= str).T\n",
    "    \n",
    "    ### get binary of cols\n",
    "    binary_t= [''.join(x) for x in Tree]\n",
    "    binary_t= [int(x,2) for x in binary_t]\n",
    "    \n",
    "    ### get sort of col binary\n",
    "    bin_sort= np.argsort(binary_t)[::-1]\n",
    "    \n",
    "    ### remove duplicates\n",
    "    Tree_str= [''.join(x) for x in Tree]\n",
    "    \n",
    "    Mp= [Tree_str[x] for x in bin_sort if binary_t[x]]\n",
    "    \n",
    "    dup_try= [0,*[x for x in range(1,len(Mp)) if Mp[x] != Mp[x - 1]]]\n",
    "    \n",
    "    Mp= [Mp[x] for x in dup_try]\n",
    "    \n",
    "    ## get Mprime to original array col index for phyl construction later.\n",
    "    Mp_similarity= {\n",
    "        z: [x for x in range(len(Tree_str)) if Tree_str[x] == Mp[z]] for z in range(len(Mp))\n",
    "    }\n",
    "    \n",
    "    Mp= [list(x) for x in Mp]\n",
    "    \n",
    "    ### get haps back cols sorted, nulls removed.\n",
    "    Mp= np.array(Mp,dtype= int).T\n",
    "\n",
    "    ## get all positive cells.\n",
    "    valid_c= np.where(Mp == 1)\n",
    "    where_one= [tuple([valid_c[0][x],valid_c[1][x]]) for x in range(len(valid_c[0]))]\n",
    "    \n",
    "    ## cells by row\n",
    "    where_lib= [c[0] for c in where_one]\n",
    "    where_lib= {\n",
    "        z:[where_one[x] for x in range(len(where_lib)) if where_lib[x] == z] for z in list(set(where_lib))\n",
    "    }\n",
    "    \n",
    "    # cells in the same row but previous col for every cell\n",
    "    where_prime= [\n",
    "        [z[1] for z in where_lib[cel[0]] if z[1] < cel[1]] for cel in where_one\n",
    "    ]\n",
    "    \n",
    "    ## respective cols L(i,j)\n",
    "    where_prime= [[[-1],x][int(len(x) > 0)] for x in where_prime]\n",
    "    where_prime= [max(x) for x in where_prime]\n",
    "\n",
    "    ## cells by col\n",
    "    col_lib= [c[1] for c in where_one]\n",
    "    \n",
    "    ## largest smaller index by col\n",
    "    col_lib= {\n",
    "        z:[where_prime[x] for x in range(len(col_lib)) if col_lib[x] == z] for z in list(set(col_lib))\n",
    "    }\n",
    "    \n",
    "    ## check how many different previous to larger col indeces by cell\n",
    "    col_lib= {z:list(set(g)) for z,g in col_lib.items()}\n",
    "    \n",
    "    discovery= np.array([len(x) for x in col_lib.values()])\n",
    "    \n",
    "    ## According to Gusfield:\n",
    "    '''\n",
    "    - Check whether L(i,J) = Lo') for every cell (ij) E 0. If so. then M has\n",
    "    a phylogenetic tree: otherwise. M does not have one.\n",
    "    '''\n",
    "    \n",
    "    ## i'm interpreting this as: all previous to last col indeces must be same by col index. \n",
    "    \n",
    "    discovery= np.where(discovery > 1)[0]\n",
    "    discovery= len(discovery) == 0\n",
    "    return discovery, Mp, col_lib, Mp_similarity\n",
    "\n",
    "\n",
    "Gus_data= [\n",
    "    [1,1,0,0,0],\n",
    "    [0,0,1,0,0],\n",
    "    [1,1,0,0,1],\n",
    "    [0,0,1,1,0],\n",
    "    [0,1,0,0,0]\n",
    "]\n",
    "Gus_data= np.array(Gus_data)\n",
    "\n",
    "Gus_data_F= [\n",
    "    [1,1,0,0,0],\n",
    "    [0,0,1,0,1],\n",
    "    [1,1,0,0,1],\n",
    "    [0,0,1,1,0],\n",
    "    [0,1,0,0,1]\n",
    "]\n",
    "Gus_data_F= np.array(Gus_data_F)\n",
    "\n",
    "\n",
    "windows_test= [\n",
    "    Gus_data, Gus_data_F\n",
    "]\n",
    "\n",
    "Expct_title= ['has phyl tree', 'does not have phyl tree']\n",
    "\n",
    "for wind in range(len(windows_test)):\n",
    "    \n",
    "    phylo_bool, Mp, col_lib, Mp_similarity= Gus_phylo_test(windows_test[wind])\n",
    "    \n",
    "    phylo_bool\n",
    "    \n",
    "    print('T= {}; R= {}'.format(Expct_title[wind],phylo_bool))"
   ]
  },
  {
   "cell_type": "markdown",
   "metadata": {},
   "source": [
    "### Algo II: Construct phylogenetic tree"
   ]
  },
  {
   "cell_type": "code",
   "execution_count": 5,
   "metadata": {},
   "outputs": [],
   "source": [
    "def Gus_get_phylo(Mp,col_lib,Mp_similarity):\n",
    "    node_edges= recursively_default_dict()\n",
    "    nodes_all=[]\n",
    "    \n",
    "    node_edges[-1]= {}\n",
    "\n",
    "    root= {}\n",
    "\n",
    "    tree_nodes= recursively_default_dict()\n",
    "    \n",
    "    leaves= recursively_default_dict()\n",
    "\n",
    "    for col,L in col_lib.items():\n",
    "        \n",
    "        node_edges[L[0]][col]= Mp_similarity[col]\n",
    "    \n",
    "    \n",
    "    for ri in range(Mp.shape[0]):\n",
    "        row= Mp[ri]\n",
    "\n",
    "        ci= np.where(row == 1)[0]\n",
    "\n",
    "        if len(ci):\n",
    "            ci= max(ci)\n",
    "            edges= [tuple([z,ci]) for z in node_edges.keys() if ci in node_edges[z]]\n",
    "\n",
    "            for ed in edges:\n",
    "                leaves[ed[1]][ri]= 1\n",
    "\n",
    "        else:\n",
    "            leaves[-1][ri]= 1\n",
    "\n",
    "    leaves= {\n",
    "        z: list(leaves[z].keys()) for z in leaves\n",
    "    }\n",
    "\n",
    "    ## because this format might prove more useful later\n",
    "    edges= [[(x,z) for z in node_edges[x]] for x in node_edges.keys()]\n",
    "    edges= list(it.chain(*edges))\n",
    "\n",
    "    return node_edges, leaves, edges\n"
   ]
  },
  {
   "cell_type": "code",
   "execution_count": 6,
   "metadata": {},
   "outputs": [
    {
     "name": "stdout",
     "output_type": "stream",
     "text": [
      "has tree: True\n"
     ]
    }
   ],
   "source": [
    "data_phyl= dataT\n",
    "#data_phyl= Gus_data\n",
    "\n",
    "phylo_bool, Mp, col_lib, Mp_similarity= Gus_phylo_test(data_phyl)\n",
    "\n",
    "print('has tree: {}'.format(phylo_bool))\n",
    "\n",
    "Tree, leaves, edges= Gus_get_phylo(Mp,col_lib,Mp_similarity)"
   ]
  },
  {
   "cell_type": "code",
   "execution_count": 7,
   "metadata": {},
   "outputs": [
    {
     "data": {
      "application/vnd.plotly.v1+json": {
       "config": {
        "linkText": "Export to plot.ly",
        "plotlyServerURL": "https://plot.ly",
        "showLink": true
       },
       "data": [
        {
         "hoverinfo": "none",
         "line": {
          "color": "rgb(25,25,25)",
          "width": 1
         },
         "mode": "lines",
         "type": "scatter",
         "uid": "2fe43f6e-731e-47f5-a435-75b45f6dbddd",
         "x": [
          0.2741841388035107,
          -0.2738561334306101,
          null,
          0.2741841388035107,
          0.7668861570785773,
          null,
          -0.2738561334306101,
          -0.7672141624514778,
          null
         ],
         "y": [
          0.3573789167780978,
          -0.35694305944294774,
          null,
          0.3573789167780978,
          0.99956414266485,
          null,
          -0.35694305944294774,
          -1,
          null
         ]
        },
        {
         "hoverinfo": "text",
         "marker": {
          "color": [
           "rgb(240,0,0)",
           "rgb(0,0,205)",
           "rgb(0,0,205)",
           "rgb(0,0,205)"
          ],
          "size": 28
         },
         "mode": "markers",
         "text": [
          "root: 0000",
          "1100",
          "1101",
          "0010\n0010"
         ],
         "type": "scatter",
         "uid": "890a8043-753b-4028-852c-faa1ceed0837",
         "x": [
          0.2741841388035107,
          -0.2738561334306101,
          -0.7672141624514778,
          0.7668861570785773
         ],
         "y": [
          0.3573789167780978,
          -0.35694305944294774,
          -1,
          0.99956414266485
         ]
        }
       ],
       "layout": {
        "autosize": false,
        "font": {
         "family": "Balto"
        },
        "height": 600,
        "hovermode": "closest",
        "margin": {
         "b": 85,
         "l": 40,
         "pad": 0,
         "r": 40,
         "t": 100
        },
        "plot_bgcolor": "#efecea",
        "showlegend": false,
        "title": "My Graph",
        "width": 600,
        "xaxis": {
         "showgrid": false,
         "showline": false,
         "showticklabels": false,
         "title": "",
         "zeroline": false
        },
        "yaxis": {
         "showgrid": false,
         "showline": false,
         "showticklabels": false,
         "title": "",
         "zeroline": false
        }
       }
      },
      "text/html": [
       "<div id=\"90bad70d-ca27-4e5e-8486-1cb17267a209\" style=\"height: 600px; width: 600px;\" class=\"plotly-graph-div\"></div><script type=\"text/javascript\">require([\"plotly\"], function(Plotly) { window.PLOTLYENV=window.PLOTLYENV || {};window.PLOTLYENV.BASE_URL=\"https://plot.ly\";Plotly.newPlot(\"90bad70d-ca27-4e5e-8486-1cb17267a209\", [{\"hoverinfo\": \"none\", \"line\": {\"color\": \"rgb(25,25,25)\", \"width\": 1}, \"mode\": \"lines\", \"x\": [0.2741841388035107, -0.2738561334306101, null, 0.2741841388035107, 0.7668861570785773, null, -0.2738561334306101, -0.7672141624514778, null], \"y\": [0.3573789167780978, -0.35694305944294774, null, 0.3573789167780978, 0.99956414266485, null, -0.35694305944294774, -1.0, null], \"type\": \"scatter\", \"uid\": \"c3b84100-47af-4063-9030-ed745b56e620\"}, {\"hoverinfo\": \"text\", \"marker\": {\"color\": [\"rgb(240,0,0)\", \"rgb(0,0,205)\", \"rgb(0,0,205)\", \"rgb(0,0,205)\"], \"size\": 28}, \"mode\": \"markers\", \"text\": [\"root: 0000\", \"1100\", \"1101\", \"0010\\n0010\"], \"x\": [0.2741841388035107, -0.2738561334306101, -0.7672141624514778, 0.7668861570785773], \"y\": [0.3573789167780978, -0.35694305944294774, -1.0, 0.99956414266485], \"type\": \"scatter\", \"uid\": \"7931a08d-315e-4003-a0ab-b703cde9994a\"}], {\"autosize\": false, \"font\": {\"family\": \"Balto\"}, \"height\": 600, \"hovermode\": \"closest\", \"margin\": {\"b\": 85, \"l\": 40, \"pad\": 0, \"r\": 40, \"t\": 100}, \"plot_bgcolor\": \"#efecea\", \"showlegend\": false, \"title\": \"My Graph\", \"width\": 600, \"xaxis\": {\"showgrid\": false, \"showline\": false, \"showticklabels\": false, \"title\": \"\", \"zeroline\": false}, \"yaxis\": {\"showgrid\": false, \"showline\": false, \"showticklabels\": false, \"title\": \"\", \"zeroline\": false}}, {\"showLink\": true, \"linkText\": \"Export to plot.ly\", \"plotlyServerURL\": \"https://plot.ly\"})});</script>"
      ],
      "text/vnd.plotly.v1+html": [
       "<div id=\"90bad70d-ca27-4e5e-8486-1cb17267a209\" style=\"height: 600px; width: 600px;\" class=\"plotly-graph-div\"></div><script type=\"text/javascript\">require([\"plotly\"], function(Plotly) { window.PLOTLYENV=window.PLOTLYENV || {};window.PLOTLYENV.BASE_URL=\"https://plot.ly\";Plotly.newPlot(\"90bad70d-ca27-4e5e-8486-1cb17267a209\", [{\"hoverinfo\": \"none\", \"line\": {\"color\": \"rgb(25,25,25)\", \"width\": 1}, \"mode\": \"lines\", \"x\": [0.2741841388035107, -0.2738561334306101, null, 0.2741841388035107, 0.7668861570785773, null, -0.2738561334306101, -0.7672141624514778, null], \"y\": [0.3573789167780978, -0.35694305944294774, null, 0.3573789167780978, 0.99956414266485, null, -0.35694305944294774, -1.0, null], \"type\": \"scatter\", \"uid\": \"c3b84100-47af-4063-9030-ed745b56e620\"}, {\"hoverinfo\": \"text\", \"marker\": {\"color\": [\"rgb(240,0,0)\", \"rgb(0,0,205)\", \"rgb(0,0,205)\", \"rgb(0,0,205)\"], \"size\": 28}, \"mode\": \"markers\", \"text\": [\"root: 0000\", \"1100\", \"1101\", \"0010\\n0010\"], \"x\": [0.2741841388035107, -0.2738561334306101, -0.7672141624514778, 0.7668861570785773], \"y\": [0.3573789167780978, -0.35694305944294774, -1.0, 0.99956414266485], \"type\": \"scatter\", \"uid\": \"7931a08d-315e-4003-a0ab-b703cde9994a\"}], {\"autosize\": false, \"font\": {\"family\": \"Balto\"}, \"height\": 600, \"hovermode\": \"closest\", \"margin\": {\"b\": 85, \"l\": 40, \"pad\": 0, \"r\": 40, \"t\": 100}, \"plot_bgcolor\": \"#efecea\", \"showlegend\": false, \"title\": \"My Graph\", \"width\": 600, \"xaxis\": {\"showgrid\": false, \"showline\": false, \"showticklabels\": false, \"title\": \"\", \"zeroline\": false}, \"yaxis\": {\"showgrid\": false, \"showline\": false, \"showticklabels\": false, \"title\": \"\", \"zeroline\": false}}, {\"showLink\": true, \"linkText\": \"Export to plot.ly\", \"plotlyServerURL\": \"https://plot.ly\"})});</script>"
      ]
     },
     "metadata": {},
     "output_type": "display_data"
    }
   ],
   "source": [
    "### let's visualize the tree\n",
    "### plotting a network because igraph is not installed.\n",
    "\n",
    "from structure_tools.Coalesce_plots import plot_phyl_net\n",
    "\n",
    "node_list= list(range(-1,Mp.shape[1]))\n",
    "root= True\n",
    "nodes_as_seqs= True\n",
    "\n",
    "plot_phyl_net(data_phyl,leaves,node_list,edges,\n",
    "              nodes_as_seqs= nodes_as_seqs,root= root)\n"
   ]
  },
  {
   "cell_type": "markdown",
   "metadata": {},
   "source": [
    "## Coalescent tree\n",
    "\n",
    "It is interesting to note that if we take all the haplotypes that are generated by a coalescent model, from present data to the root, then this data set is unlikely to have a phylogenetic tree:"
   ]
  },
  {
   "cell_type": "code",
   "execution_count": 9,
   "metadata": {},
   "outputs": [
    {
     "name": "stdout",
     "output_type": "stream",
     "text": [
      "has tree: False\n"
     ]
    }
   ],
   "source": [
    "sink= max(root_lib.keys())\n",
    "\n",
    "if 0 not in root_lib[sink].keys():\n",
    "    while 0 not in root_lib[sink].keys():\n",
    "        sink -= 1\n",
    "\n",
    "data_phyl= root_lib[sink][-2]\n",
    "phylo_bool, Mp, col_lib, Mp_similarity= Gus_phylo_test(data_phyl)\n",
    "\n",
    "print('has tree: {}'.format(phylo_bool))"
   ]
  },
  {
   "cell_type": "code",
   "execution_count": 10,
   "metadata": {},
   "outputs": [
    {
     "data": {
      "application/vnd.plotly.v1+json": {
       "config": {
        "linkText": "Export to plot.ly",
        "plotlyServerURL": "https://plot.ly",
        "showLink": true
       },
       "data": [
        {
         "hoverinfo": "none",
         "line": {
          "color": "rgb(25,25,25)",
          "width": 1
         },
         "mode": "lines",
         "type": "scatter",
         "uid": "9c9c59c8-0611-479d-ad12-733a7629405f",
         "x": [
          -0.531224219206923,
          -0.0027129000220660927,
          null,
          -0.531224219206923,
          -0.9975283530816932,
          null,
          -0.0027129000220660927,
          0.5314654723106821,
          null,
          0.5314654723106821,
          1,
          null
         ],
         "y": [
          -0.2671591907971587,
          0.0009010405186052464,
          null,
          -0.2671591907971587,
          -0.5059733440154193,
          null,
          0.0009010405186052464,
          0.2693914415287056,
          null,
          0.2693914415287056,
          0.5028400527652676,
          null
         ]
        },
        {
         "hoverinfo": "text",
         "marker": {
          "color": [
           "rgb(240,0,0)",
           "rgb(0,0,205)",
           "rgb(0,0,205)",
           "rgb(0,0,205)",
           "rgb(0,0,205)"
          ],
          "size": 28
         },
         "mode": "markers",
         "text": [
          "root: 0000",
          "0100",
          "1100\n1000",
          "0010",
          "1101"
         ],
         "type": "scatter",
         "uid": "c3b3d70a-2f52-4972-9068-c440f64844e4",
         "x": [
          -0.531224219206923,
          -0.0027129000220660927,
          0.5314654723106821,
          -0.9975283530816932,
          1
         ],
         "y": [
          -0.2671591907971587,
          0.0009010405186052464,
          0.2693914415287056,
          -0.5059733440154193,
          0.5028400527652676
         ]
        }
       ],
       "layout": {
        "autosize": false,
        "font": {
         "family": "Balto"
        },
        "height": 600,
        "hovermode": "closest",
        "margin": {
         "b": 85,
         "l": 40,
         "pad": 0,
         "r": 40,
         "t": 100
        },
        "plot_bgcolor": "#efecea",
        "showlegend": false,
        "title": "My Graph",
        "width": 600,
        "xaxis": {
         "showgrid": false,
         "showline": false,
         "showticklabels": false,
         "title": "",
         "zeroline": false
        },
        "yaxis": {
         "showgrid": false,
         "showline": false,
         "showticklabels": false,
         "title": "",
         "zeroline": false
        }
       }
      },
      "text/html": [
       "<div id=\"8d62d67e-4dc9-438d-a441-b853e93ba0a4\" style=\"height: 600px; width: 600px;\" class=\"plotly-graph-div\"></div><script type=\"text/javascript\">require([\"plotly\"], function(Plotly) { window.PLOTLYENV=window.PLOTLYENV || {};window.PLOTLYENV.BASE_URL=\"https://plot.ly\";Plotly.newPlot(\"8d62d67e-4dc9-438d-a441-b853e93ba0a4\", [{\"hoverinfo\": \"none\", \"line\": {\"color\": \"rgb(25,25,25)\", \"width\": 1}, \"mode\": \"lines\", \"x\": [-0.531224219206923, -0.0027129000220660927, null, -0.531224219206923, -0.9975283530816932, null, -0.0027129000220660927, 0.5314654723106821, null, 0.5314654723106821, 1.0, null], \"y\": [-0.2671591907971587, 0.0009010405186052464, null, -0.2671591907971587, -0.5059733440154193, null, 0.0009010405186052464, 0.2693914415287056, null, 0.2693914415287056, 0.5028400527652676, null], \"type\": \"scatter\", \"uid\": \"74b1d389-6ee1-4f70-b95e-16090cb9fb66\"}, {\"hoverinfo\": \"text\", \"marker\": {\"color\": [\"rgb(240,0,0)\", \"rgb(0,0,205)\", \"rgb(0,0,205)\", \"rgb(0,0,205)\", \"rgb(0,0,205)\"], \"size\": 28}, \"mode\": \"markers\", \"text\": [\"root: 0000\", \"0100\", \"1100\\n1000\", \"0010\", \"1101\"], \"x\": [-0.531224219206923, -0.0027129000220660927, 0.5314654723106821, -0.9975283530816932, 1.0], \"y\": [-0.2671591907971587, 0.0009010405186052464, 0.2693914415287056, -0.5059733440154193, 0.5028400527652676], \"type\": \"scatter\", \"uid\": \"be1f4b6d-e6ad-4e4f-93be-76a601216903\"}], {\"autosize\": false, \"font\": {\"family\": \"Balto\"}, \"height\": 600, \"hovermode\": \"closest\", \"margin\": {\"b\": 85, \"l\": 40, \"pad\": 0, \"r\": 40, \"t\": 100}, \"plot_bgcolor\": \"#efecea\", \"showlegend\": false, \"title\": \"My Graph\", \"width\": 600, \"xaxis\": {\"showgrid\": false, \"showline\": false, \"showticklabels\": false, \"title\": \"\", \"zeroline\": false}, \"yaxis\": {\"showgrid\": false, \"showline\": false, \"showticklabels\": false, \"title\": \"\", \"zeroline\": false}}, {\"showLink\": true, \"linkText\": \"Export to plot.ly\", \"plotlyServerURL\": \"https://plot.ly\"})});</script>"
      ],
      "text/vnd.plotly.v1+html": [
       "<div id=\"8d62d67e-4dc9-438d-a441-b853e93ba0a4\" style=\"height: 600px; width: 600px;\" class=\"plotly-graph-div\"></div><script type=\"text/javascript\">require([\"plotly\"], function(Plotly) { window.PLOTLYENV=window.PLOTLYENV || {};window.PLOTLYENV.BASE_URL=\"https://plot.ly\";Plotly.newPlot(\"8d62d67e-4dc9-438d-a441-b853e93ba0a4\", [{\"hoverinfo\": \"none\", \"line\": {\"color\": \"rgb(25,25,25)\", \"width\": 1}, \"mode\": \"lines\", \"x\": [-0.531224219206923, -0.0027129000220660927, null, -0.531224219206923, -0.9975283530816932, null, -0.0027129000220660927, 0.5314654723106821, null, 0.5314654723106821, 1.0, null], \"y\": [-0.2671591907971587, 0.0009010405186052464, null, -0.2671591907971587, -0.5059733440154193, null, 0.0009010405186052464, 0.2693914415287056, null, 0.2693914415287056, 0.5028400527652676, null], \"type\": \"scatter\", \"uid\": \"74b1d389-6ee1-4f70-b95e-16090cb9fb66\"}, {\"hoverinfo\": \"text\", \"marker\": {\"color\": [\"rgb(240,0,0)\", \"rgb(0,0,205)\", \"rgb(0,0,205)\", \"rgb(0,0,205)\", \"rgb(0,0,205)\"], \"size\": 28}, \"mode\": \"markers\", \"text\": [\"root: 0000\", \"0100\", \"1100\\n1000\", \"0010\", \"1101\"], \"x\": [-0.531224219206923, -0.0027129000220660927, 0.5314654723106821, -0.9975283530816932, 1.0], \"y\": [-0.2671591907971587, 0.0009010405186052464, 0.2693914415287056, -0.5059733440154193, 0.5028400527652676], \"type\": \"scatter\", \"uid\": \"be1f4b6d-e6ad-4e4f-93be-76a601216903\"}], {\"autosize\": false, \"font\": {\"family\": \"Balto\"}, \"height\": 600, \"hovermode\": \"closest\", \"margin\": {\"b\": 85, \"l\": 40, \"pad\": 0, \"r\": 40, \"t\": 100}, \"plot_bgcolor\": \"#efecea\", \"showlegend\": false, \"title\": \"My Graph\", \"width\": 600, \"xaxis\": {\"showgrid\": false, \"showline\": false, \"showticklabels\": false, \"title\": \"\", \"zeroline\": false}, \"yaxis\": {\"showgrid\": false, \"showline\": false, \"showticklabels\": false, \"title\": \"\", \"zeroline\": false}}, {\"showLink\": true, \"linkText\": \"Export to plot.ly\", \"plotlyServerURL\": \"https://plot.ly\"})});</script>"
      ]
     },
     "metadata": {},
     "output_type": "display_data"
    }
   ],
   "source": [
    "Tree, leaves, edges= Gus_get_phylo(Mp,col_lib,Mp_similarity)\n",
    "\n",
    "node_list= list(range(-1,Mp.shape[1]))\n",
    "root= True\n",
    "nodes_as_seqs= True\n",
    "\n",
    "plot_phyl_net(data_phyl,leaves,node_list,edges,\n",
    "              nodes_as_seqs= nodes_as_seqs,root= root)"
   ]
  },
  {
   "cell_type": "markdown",
   "metadata": {},
   "source": [
    "This is because the coalescent will explore parallel paths to an ancestry, so that not all haplotypes \n",
    "across paths are compatible with an infinite sites model. While the resulting network looks the same, by browsing over the nodes you will notice that one of the nodes holds two different sequences, one of which should in fact have been a new node and edge linking to the dual node. \n",
    "\n",
    "But there is an interest in reproducing the graph of all possible haplotypes. Especially if we have access to all possible ancestors. For example, if we wish to link up different networks, then we might want to hold on to hypothetical ancestral haplotypes to anchor new branches. The uncertainty might also be solved if one of the ambiguous haplotypes shows up in another data set. \n",
    "\n",
    "The next script creates the graph from root to modern day leaves."
   ]
  },
  {
   "cell_type": "code",
   "execution_count": 11,
   "metadata": {},
   "outputs": [],
   "source": [
    "from sklearn.metrics import pairwise_distances\n",
    "\n",
    "def tree_descent_net(root_lib,point_up,sink,init= [0]):\n",
    "    \n",
    "    for layer in list(range(1,sink + 1))[::-1]:\n",
    "        \n",
    "        where_to= point_up[layer - 1]\n",
    "        \n",
    "        if layer == sink:\n",
    "            starters= init\n",
    "        else:\n",
    "            starters= list(set(where_to[:,1]))\n",
    "\n",
    "        point_up_house= where_to[where_to[:,3] == 0]\n",
    "\n",
    "        if layer == sink:\n",
    "            \n",
    "            AC= root_lib[sink][0][0]\n",
    "            \n",
    "            leaves= {\n",
    "                -1: root_lib[sink][-2][AC[0]]\n",
    "            }\n",
    "            \n",
    "            nodes= {\n",
    "                -1: []\n",
    "            }\n",
    "            \n",
    "            node_code= {\n",
    "                AC[0]: -1\n",
    "            }\n",
    "            \n",
    "            edges= []\n",
    "        \n",
    "        \n",
    "        for row in range(point_up_house.shape[0]):\n",
    "            line= point_up_house[row,:]\n",
    "            \n",
    "            who_app= [x for x in root_lib[layer - 1][line[0]][:,0] if x not in root_lib[layer][line[1]][:,0]][0]\n",
    "            \n",
    "            if who_app not in node_code.keys():\n",
    "                node_code[who_app]= len(node_code) - 1\n",
    "                \n",
    "                nodes[node_code[who_app]]= []\n",
    "                \n",
    "                leaves[node_code[who_app]]= root_lib[layer][-2][who_app]\n",
    "            \n",
    "            mut= point_up_house[row,4]\n",
    "            \n",
    "            who_seq= list(root_lib[layer - 1][-2][who_app])\n",
    "            \n",
    "            who_seq[mut]= 0\n",
    "            \n",
    "            dists= pairwise_distances(np.array(who_seq).reshape(1,-1), root_lib[layer][-2],\n",
    "                                                metric='manhattan')[0]\n",
    "            \n",
    "            which= np.where(dists==0)[0]\n",
    "            \n",
    "            for poss in which:\n",
    "                \n",
    "                if poss != who_app:\n",
    "                    \n",
    "                    if poss not in node_code.keys():\n",
    "\n",
    "                        node_code[poss]= len(node_code) - 1\n",
    "\n",
    "                        nodes[node_code[poss]]= []\n",
    "\n",
    "                        leaves[node_code[poss]]= root_lib[layer][-2][poss]\n",
    "                    \n",
    "                    code_dn= node_code[poss]\n",
    "\n",
    "                    new_edge= (code_dn,node_code[who_app])\n",
    "                    \n",
    "                    if new_edge not in edges:\n",
    "                        edges.append(new_edge)\n",
    "\n",
    "                        nodes[new_edge[0]].append(new_edge[1])\n",
    "\n",
    "    return nodes, edges, leaves, node_code\n",
    "\n",
    "\n",
    "\n"
   ]
  },
  {
   "cell_type": "code",
   "execution_count": 12,
   "metadata": {},
   "outputs": [
    {
     "name": "stdout",
     "output_type": "stream",
     "text": [
      "[0, 3, 4, 5]\n"
     ]
    },
    {
     "data": {
      "application/vnd.plotly.v1+json": {
       "config": {
        "linkText": "Export to plot.ly",
        "plotlyServerURL": "https://plot.ly",
        "showLink": true
       },
       "data": [
        {
         "hoverinfo": "none",
         "line": {
          "color": "rgb(25,25,25)",
          "width": 1
         },
         "mode": "lines",
         "type": "scatter",
         "uid": "010aa090-704f-46a5-a462-d9206da5f419",
         "x": [
          0.37420254614473336,
          0.2427274922993052,
          null,
          0.37420254614473336,
          -0.24394233434808185,
          null,
          0.37420254614473336,
          0.807267903577479,
          null,
          0.2427274922993052,
          -0.3721555761271296,
          null,
          -0.24394233434808185,
          -0.3721555761271296,
          null,
          -0.3721555761271296,
          -0.8081000315463059,
          null
         ],
         "y": [
          -0.46283674332230185,
          0.19780124388455425,
          null,
          -0.46283674332230185,
          -0.19477180888926657,
          null,
          -0.46283674332230185,
          -1,
          null,
          0.19780124388455425,
          0.46126338664018574,
          null,
          -0.19477180888926657,
          0.46126338664018574,
          null,
          0.46126338664018574,
          0.9985439216868287,
          null
         ]
        },
        {
         "hoverinfo": "text",
         "marker": {
          "color": [
           "rgb(240,0,0)",
           "rgb(186,85,211)",
           "rgb(186,85,211)",
           "rgb(0,0,205)",
           "rgb(0,0,205)",
           "rgb(0,0,205)"
          ],
          "size": 28
         },
         "mode": "markers",
         "text": [
          "root: 0000",
          "0100",
          "1000",
          "0010",
          "1100",
          "1101"
         ],
         "type": "scatter",
         "uid": "ae0b29ac-4cdd-40fa-8acd-d020e50d09c6",
         "x": [
          0.37420254614473336,
          0.2427274922993052,
          -0.24394233434808185,
          0.807267903577479,
          -0.3721555761271296,
          -0.8081000315463059
         ],
         "y": [
          -0.46283674332230185,
          0.19780124388455425,
          -0.19477180888926657,
          -1,
          0.46126338664018574,
          0.9985439216868287
         ]
        }
       ],
       "layout": {
        "autosize": false,
        "font": {
         "family": "Balto"
        },
        "height": 600,
        "hovermode": "closest",
        "margin": {
         "b": 85,
         "l": 40,
         "pad": 0,
         "r": 40,
         "t": 100
        },
        "plot_bgcolor": "#efecea",
        "showlegend": false,
        "title": "My Graph",
        "width": 600,
        "xaxis": {
         "showgrid": false,
         "showline": false,
         "showticklabels": false,
         "title": "",
         "zeroline": false
        },
        "yaxis": {
         "showgrid": false,
         "showline": false,
         "showticklabels": false,
         "title": "",
         "zeroline": false
        }
       }
      },
      "text/html": [
       "<div id=\"fbfb8f9e-1565-4fdf-b0fa-9e6ed18a2639\" style=\"height: 600px; width: 600px;\" class=\"plotly-graph-div\"></div><script type=\"text/javascript\">require([\"plotly\"], function(Plotly) { window.PLOTLYENV=window.PLOTLYENV || {};window.PLOTLYENV.BASE_URL=\"https://plot.ly\";Plotly.newPlot(\"fbfb8f9e-1565-4fdf-b0fa-9e6ed18a2639\", [{\"hoverinfo\": \"none\", \"line\": {\"color\": \"rgb(25,25,25)\", \"width\": 1}, \"mode\": \"lines\", \"x\": [0.37420254614473336, 0.2427274922993052, null, 0.37420254614473336, -0.24394233434808185, null, 0.37420254614473336, 0.807267903577479, null, 0.2427274922993052, -0.3721555761271296, null, -0.24394233434808185, -0.3721555761271296, null, -0.3721555761271296, -0.8081000315463059, null], \"y\": [-0.46283674332230185, 0.19780124388455425, null, -0.46283674332230185, -0.19477180888926657, null, -0.46283674332230185, -1.0, null, 0.19780124388455425, 0.46126338664018574, null, -0.19477180888926657, 0.46126338664018574, null, 0.46126338664018574, 0.9985439216868287, null], \"type\": \"scatter\", \"uid\": \"78d7e429-d58b-4c43-9b2b-c4da474b82ff\"}, {\"hoverinfo\": \"text\", \"marker\": {\"color\": [\"rgb(240,0,0)\", \"rgb(186,85,211)\", \"rgb(186,85,211)\", \"rgb(0,0,205)\", \"rgb(0,0,205)\", \"rgb(0,0,205)\"], \"size\": 28}, \"mode\": \"markers\", \"text\": [\"root: 0000\", \"0100\", \"1000\", \"0010\", \"1100\", \"1101\"], \"x\": [0.37420254614473336, 0.2427274922993052, -0.24394233434808185, 0.807267903577479, -0.3721555761271296, -0.8081000315463059], \"y\": [-0.46283674332230185, 0.19780124388455425, -0.19477180888926657, -1.0, 0.46126338664018574, 0.9985439216868287], \"type\": \"scatter\", \"uid\": \"26c09dd9-8064-4b08-879a-847dcc275a6d\"}], {\"autosize\": false, \"font\": {\"family\": \"Balto\"}, \"height\": 600, \"hovermode\": \"closest\", \"margin\": {\"b\": 85, \"l\": 40, \"pad\": 0, \"r\": 40, \"t\": 100}, \"plot_bgcolor\": \"#efecea\", \"showlegend\": false, \"title\": \"My Graph\", \"width\": 600, \"xaxis\": {\"showgrid\": false, \"showline\": false, \"showticklabels\": false, \"title\": \"\", \"zeroline\": false}, \"yaxis\": {\"showgrid\": false, \"showline\": false, \"showticklabels\": false, \"title\": \"\", \"zeroline\": false}}, {\"showLink\": true, \"linkText\": \"Export to plot.ly\", \"plotlyServerURL\": \"https://plot.ly\"})});</script>"
      ],
      "text/vnd.plotly.v1+html": [
       "<div id=\"fbfb8f9e-1565-4fdf-b0fa-9e6ed18a2639\" style=\"height: 600px; width: 600px;\" class=\"plotly-graph-div\"></div><script type=\"text/javascript\">require([\"plotly\"], function(Plotly) { window.PLOTLYENV=window.PLOTLYENV || {};window.PLOTLYENV.BASE_URL=\"https://plot.ly\";Plotly.newPlot(\"fbfb8f9e-1565-4fdf-b0fa-9e6ed18a2639\", [{\"hoverinfo\": \"none\", \"line\": {\"color\": \"rgb(25,25,25)\", \"width\": 1}, \"mode\": \"lines\", \"x\": [0.37420254614473336, 0.2427274922993052, null, 0.37420254614473336, -0.24394233434808185, null, 0.37420254614473336, 0.807267903577479, null, 0.2427274922993052, -0.3721555761271296, null, -0.24394233434808185, -0.3721555761271296, null, -0.3721555761271296, -0.8081000315463059, null], \"y\": [-0.46283674332230185, 0.19780124388455425, null, -0.46283674332230185, -0.19477180888926657, null, -0.46283674332230185, -1.0, null, 0.19780124388455425, 0.46126338664018574, null, -0.19477180888926657, 0.46126338664018574, null, 0.46126338664018574, 0.9985439216868287, null], \"type\": \"scatter\", \"uid\": \"78d7e429-d58b-4c43-9b2b-c4da474b82ff\"}, {\"hoverinfo\": \"text\", \"marker\": {\"color\": [\"rgb(240,0,0)\", \"rgb(186,85,211)\", \"rgb(186,85,211)\", \"rgb(0,0,205)\", \"rgb(0,0,205)\", \"rgb(0,0,205)\"], \"size\": 28}, \"mode\": \"markers\", \"text\": [\"root: 0000\", \"0100\", \"1000\", \"0010\", \"1100\", \"1101\"], \"x\": [0.37420254614473336, 0.2427274922993052, -0.24394233434808185, 0.807267903577479, -0.3721555761271296, -0.8081000315463059], \"y\": [-0.46283674332230185, 0.19780124388455425, -0.19477180888926657, -1.0, 0.46126338664018574, 0.9985439216868287], \"type\": \"scatter\", \"uid\": \"26c09dd9-8064-4b08-879a-847dcc275a6d\"}], {\"autosize\": false, \"font\": {\"family\": \"Balto\"}, \"height\": 600, \"hovermode\": \"closest\", \"margin\": {\"b\": 85, \"l\": 40, \"pad\": 0, \"r\": 40, \"t\": 100}, \"plot_bgcolor\": \"#efecea\", \"showlegend\": false, \"title\": \"My Graph\", \"width\": 600, \"xaxis\": {\"showgrid\": false, \"showline\": false, \"showticklabels\": false, \"title\": \"\", \"zeroline\": false}, \"yaxis\": {\"showgrid\": false, \"showline\": false, \"showticklabels\": false, \"title\": \"\", \"zeroline\": false}}, {\"showLink\": true, \"linkText\": \"Export to plot.ly\", \"plotlyServerURL\": \"https://plot.ly\"})});</script>"
      ]
     },
     "metadata": {},
     "output_type": "display_data"
    }
   ],
   "source": [
    "##\n",
    "nodes, edges, leaves, node_code= tree_descent_net(root_lib,point_up,sink,init= [0])\n",
    "\n",
    "from structure_tools.Coalesce_plots import get_ori_graph\n",
    "\n",
    "present= True\n",
    "nodes_as_seqs= True\n",
    "root= True\n",
    "\n",
    "\n",
    "\n",
    "get_ori_graph(root_lib,edges,node_list,leaves,present= present,\n",
    "                                            nodes_as_seqs= nodes_as_seqs,\n",
    "                                            root= root)\n"
   ]
  },
  {
   "cell_type": "markdown",
   "metadata": {},
   "source": [
    "color code: \n",
    "    - blue= present day haplotypes.\n",
    "    - purple= haplotypes present only as precendents.\n",
    "    - red= root.\n",
    "\n",
    "### Conclusions\n",
    "\n",
    "- Every group of ambiguous nodes is a directed graph in which the the sink is always a known hap. \n",
    "- Every path from root to sink has the same length = the number of differences between root and sink.\n",
    "- Breadth first search returns nodes grouped by dist from source/sink in layers.\n",
    "\n",
    "The final observation leads to the following:\n",
    "\n",
    "                    - Number of nodes per layer: l combinations in D.\n",
    "                    - total number of ambiguous nodes from source to sink: sum of (i comb. in D) for i in [1 through D-1].\n",
    "\n",
    "For `D` = number of differences between source and sink haps, and `l`= layer number (0 at sink).\n",
    "\n",
    "The preceding might only be true of networks constructed from coalescent reconstructions of data respecting infinite sites assumption. "
   ]
  },
  {
   "cell_type": "code",
   "execution_count": null,
   "metadata": {},
   "outputs": [],
   "source": []
  }
 ],
 "metadata": {
  "kernelspec": {
   "display_name": "Python 3",
   "language": "python",
   "name": "python3"
  },
  "language_info": {
   "codemirror_mode": {
    "name": "ipython",
    "version": 3
   },
   "file_extension": ".py",
   "mimetype": "text/x-python",
   "name": "python",
   "nbconvert_exporter": "python",
   "pygments_lexer": "ipython3",
   "version": "3.6.3"
  }
 },
 "nbformat": 4,
 "nbformat_minor": 2
}
